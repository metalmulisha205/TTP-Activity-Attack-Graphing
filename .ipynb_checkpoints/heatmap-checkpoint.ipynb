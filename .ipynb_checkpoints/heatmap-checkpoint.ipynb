{
 "cells": [
  {
   "cell_type": "code",
   "execution_count": 1,
   "metadata": {},
   "outputs": [],
   "source": [
    "import numpy as np\n",
    "import matplotlib.pyplot as plt\n",
    "import pandas as pd\n",
    "from stix2.v21 import (ThreatActor, Identity, AttackPattern, Campaign, IntrusionSet, Relationship, ExternalReference, Bundle, Grouping)\n",
    "from efficient_apriori import apriori\n",
    "import re"
   ]
  },
  {
   "cell_type": "code",
   "execution_count": 2,
   "metadata": {},
   "outputs": [
    {
     "data": {
      "text/html": [
       "<div>\n",
       "<style scoped>\n",
       "    .dataframe tbody tr th:only-of-type {\n",
       "        vertical-align: middle;\n",
       "    }\n",
       "\n",
       "    .dataframe tbody tr th {\n",
       "        vertical-align: top;\n",
       "    }\n",
       "\n",
       "    .dataframe thead th {\n",
       "        text-align: right;\n",
       "    }\n",
       "</style>\n",
       "<table border=\"1\" class=\"dataframe\">\n",
       "  <thead>\n",
       "    <tr style=\"text-align: right;\">\n",
       "      <th></th>\n",
       "      <th>mitre_attack_id</th>\n",
       "      <th>mitre_attack_name</th>\n",
       "      <th>mitre_attack_aliases</th>\n",
       "      <th>mitre_attack_created</th>\n",
       "      <th>mitre_attack_last_modified</th>\n",
       "      <th>etda_id</th>\n",
       "      <th>etda_name</th>\n",
       "      <th>etda_aliases</th>\n",
       "      <th>etda_first_seen</th>\n",
       "      <th>country</th>\n",
       "      <th>motivation</th>\n",
       "      <th>victim_industries</th>\n",
       "      <th>victim_countries</th>\n",
       "      <th>mitre_attack_ttps</th>\n",
       "    </tr>\n",
       "  </thead>\n",
       "  <tbody>\n",
       "    <tr>\n",
       "      <th>0</th>\n",
       "      <td>intrusion-set--dc5e2999-ca1a-47d4-8d12-a6984b1...</td>\n",
       "      <td>UNC2452</td>\n",
       "      <td>['UNC2452', 'NOBELIUM', 'StellarParticle', 'Da...</td>\n",
       "      <td>2021-01-05</td>\n",
       "      <td>2021-05-04</td>\n",
       "      <td>93ba9804-335e-4782-855d-40af22b93201</td>\n",
       "      <td>APT 29, Cozy Bear, The Dukes</td>\n",
       "      <td>['APT 29', 'Cozy Bear', 'The Dukes', 'Group 10...</td>\n",
       "      <td>2008</td>\n",
       "      <td>RU</td>\n",
       "      <td>['Information theft and espionage']</td>\n",
       "      <td>['Defense', 'Energy', 'Government', 'Law enfor...</td>\n",
       "      <td>['Australia', 'Azerbaijan', 'Belarus', 'Belgiu...</td>\n",
       "      <td>['T1484.002', 'T1071.001', 'T1053.005', 'T1036...</td>\n",
       "    </tr>\n",
       "    <tr>\n",
       "      <th>1</th>\n",
       "      <td>intrusion-set--8f5e8dc7-739d-4f5e-a8a1-a66e004...</td>\n",
       "      <td>Cleaver</td>\n",
       "      <td>['Cleaver', 'Threat Group 2889', 'TG-2889']</td>\n",
       "      <td>2017-05-31</td>\n",
       "      <td>2021-10-12</td>\n",
       "      <td>4622bc44-8c01-4807-8d12-b22352472c29</td>\n",
       "      <td>Cutting Kitten, TG-2889</td>\n",
       "      <td>['Cutting Kitten', 'TG-2889', 'Operation “Clea...</td>\n",
       "      <td>2012</td>\n",
       "      <td>IR</td>\n",
       "      <td>['Information theft and espionage']</td>\n",
       "      <td>['Aerospace', 'Aviation', 'Chemical', 'Defense...</td>\n",
       "      <td>['Canada', 'China', 'France', 'Germany', 'Indi...</td>\n",
       "      <td>['T1588.002', 'T1003.001', 'T1587.001', 'T1585...</td>\n",
       "    </tr>\n",
       "    <tr>\n",
       "      <th>2</th>\n",
       "      <td>intrusion-set--0ea72cd5-ca30-46ba-bc04-378f701...</td>\n",
       "      <td>GCMAN</td>\n",
       "      <td>['GCMAN']</td>\n",
       "      <td>2017-05-31</td>\n",
       "      <td>2020-03-30</td>\n",
       "      <td>e6eeb30a-a941-46f9-8340-20958f1d6cb0</td>\n",
       "      <td>GCMAN</td>\n",
       "      <td>['GCMAN']</td>\n",
       "      <td>2016</td>\n",
       "      <td>RU</td>\n",
       "      <td>['Financial crime']</td>\n",
       "      <td>['Financial']</td>\n",
       "      <td>['Russia']</td>\n",
       "      <td>['T1021.005', 'T1021.004']</td>\n",
       "    </tr>\n",
       "    <tr>\n",
       "      <th>3</th>\n",
       "      <td>intrusion-set--dd2d9ca6-505b-4860-a604-233685b...</td>\n",
       "      <td>Wizard Spider</td>\n",
       "      <td>['Wizard Spider', 'UNC1878', 'TEMP.MixMaster',...</td>\n",
       "      <td>2020-05-12</td>\n",
       "      <td>2021-10-14</td>\n",
       "      <td>480940e0-47b0-4295-9067-c2500ccfdaec</td>\n",
       "      <td>Wizard Spider, Gold Blackburn</td>\n",
       "      <td>['Wizard Spider', 'Grim Spider', 'TEMP.MixMast...</td>\n",
       "      <td>2014</td>\n",
       "      <td>RU</td>\n",
       "      <td>['Financial crime', 'Financial gain']</td>\n",
       "      <td>['Defense', 'Financial', 'Government', 'Health...</td>\n",
       "      <td>None Provided</td>\n",
       "      <td>['T1053.005', 'T1033', 'T1070.004', 'T1059.003...</td>\n",
       "    </tr>\n",
       "    <tr>\n",
       "      <th>4</th>\n",
       "      <td>intrusion-set--f9d6633a-55e6-4adc-9263-6ae0804...</td>\n",
       "      <td>Magic Hound</td>\n",
       "      <td>['Magic Hound', 'TA453', 'COBALT ILLUSION', 'C...</td>\n",
       "      <td>2018-01-16</td>\n",
       "      <td>2022-04-17</td>\n",
       "      <td>bb9b25ed-9ddc-4f65-bd01-ab8d6efc34ac</td>\n",
       "      <td>Magic Hound, APT 35, Cobalt Gypsy, Charming Ki...</td>\n",
       "      <td>['Magic Hound', 'APT 35', 'Cobalt Illusion', '...</td>\n",
       "      <td>2012</td>\n",
       "      <td>IR</td>\n",
       "      <td>['Information theft and espionage']</td>\n",
       "      <td>['Defense', 'Energy', 'Financial', 'Government...</td>\n",
       "      <td>['Afghanistan', 'Canada', 'Egypt', 'Iran', 'Ir...</td>\n",
       "      <td>['T1071', 'T1564.003', 'T1560.001', 'T1586.002...</td>\n",
       "    </tr>\n",
       "  </tbody>\n",
       "</table>\n",
       "</div>"
      ],
      "text/plain": [
       "                                     mitre_attack_id mitre_attack_name  \\\n",
       "0  intrusion-set--dc5e2999-ca1a-47d4-8d12-a6984b1...           UNC2452   \n",
       "1  intrusion-set--8f5e8dc7-739d-4f5e-a8a1-a66e004...           Cleaver   \n",
       "2  intrusion-set--0ea72cd5-ca30-46ba-bc04-378f701...             GCMAN   \n",
       "3  intrusion-set--dd2d9ca6-505b-4860-a604-233685b...     Wizard Spider   \n",
       "4  intrusion-set--f9d6633a-55e6-4adc-9263-6ae0804...       Magic Hound   \n",
       "\n",
       "                                mitre_attack_aliases mitre_attack_created  \\\n",
       "0  ['UNC2452', 'NOBELIUM', 'StellarParticle', 'Da...           2021-01-05   \n",
       "1        ['Cleaver', 'Threat Group 2889', 'TG-2889']           2017-05-31   \n",
       "2                                          ['GCMAN']           2017-05-31   \n",
       "3  ['Wizard Spider', 'UNC1878', 'TEMP.MixMaster',...           2020-05-12   \n",
       "4  ['Magic Hound', 'TA453', 'COBALT ILLUSION', 'C...           2018-01-16   \n",
       "\n",
       "  mitre_attack_last_modified                               etda_id  \\\n",
       "0                 2021-05-04  93ba9804-335e-4782-855d-40af22b93201   \n",
       "1                 2021-10-12  4622bc44-8c01-4807-8d12-b22352472c29   \n",
       "2                 2020-03-30  e6eeb30a-a941-46f9-8340-20958f1d6cb0   \n",
       "3                 2021-10-14  480940e0-47b0-4295-9067-c2500ccfdaec   \n",
       "4                 2022-04-17  bb9b25ed-9ddc-4f65-bd01-ab8d6efc34ac   \n",
       "\n",
       "                                           etda_name  \\\n",
       "0                       APT 29, Cozy Bear, The Dukes   \n",
       "1                            Cutting Kitten, TG-2889   \n",
       "2                                              GCMAN   \n",
       "3                      Wizard Spider, Gold Blackburn   \n",
       "4  Magic Hound, APT 35, Cobalt Gypsy, Charming Ki...   \n",
       "\n",
       "                                        etda_aliases  etda_first_seen country  \\\n",
       "0  ['APT 29', 'Cozy Bear', 'The Dukes', 'Group 10...             2008      RU   \n",
       "1  ['Cutting Kitten', 'TG-2889', 'Operation “Clea...             2012      IR   \n",
       "2                                          ['GCMAN']             2016      RU   \n",
       "3  ['Wizard Spider', 'Grim Spider', 'TEMP.MixMast...             2014      RU   \n",
       "4  ['Magic Hound', 'APT 35', 'Cobalt Illusion', '...             2012      IR   \n",
       "\n",
       "                              motivation  \\\n",
       "0    ['Information theft and espionage']   \n",
       "1    ['Information theft and espionage']   \n",
       "2                    ['Financial crime']   \n",
       "3  ['Financial crime', 'Financial gain']   \n",
       "4    ['Information theft and espionage']   \n",
       "\n",
       "                                   victim_industries  \\\n",
       "0  ['Defense', 'Energy', 'Government', 'Law enfor...   \n",
       "1  ['Aerospace', 'Aviation', 'Chemical', 'Defense...   \n",
       "2                                      ['Financial']   \n",
       "3  ['Defense', 'Financial', 'Government', 'Health...   \n",
       "4  ['Defense', 'Energy', 'Financial', 'Government...   \n",
       "\n",
       "                                    victim_countries  \\\n",
       "0  ['Australia', 'Azerbaijan', 'Belarus', 'Belgiu...   \n",
       "1  ['Canada', 'China', 'France', 'Germany', 'Indi...   \n",
       "2                                         ['Russia']   \n",
       "3                                      None Provided   \n",
       "4  ['Afghanistan', 'Canada', 'Egypt', 'Iran', 'Ir...   \n",
       "\n",
       "                                   mitre_attack_ttps  \n",
       "0  ['T1484.002', 'T1071.001', 'T1053.005', 'T1036...  \n",
       "1  ['T1588.002', 'T1003.001', 'T1587.001', 'T1585...  \n",
       "2                         ['T1021.005', 'T1021.004']  \n",
       "3  ['T1053.005', 'T1033', 'T1070.004', 'T1059.003...  \n",
       "4  ['T1071', 'T1564.003', 'T1560.001', 'T1586.002...  "
      ]
     },
     "execution_count": 2,
     "metadata": {},
     "output_type": "execute_result"
    }
   ],
   "source": [
    "df = pd.read_csv(\"Categorized_Adversary_TTPs.csv\") # sample dataset of attacks\n",
    "df.head()"
   ]
  },
  {
   "cell_type": "code",
   "execution_count": 3,
   "metadata": {},
   "outputs": [],
   "source": [
    "from pyattck import Attck\n",
    "\n",
    "attack = Attck()\n",
    "\n",
    "#dictionary for high speed access\n",
    "actors = {}\n",
    "for actor in attack.enterprise.actors:\n",
    "    actors[actor.id] = actor\n",
    "malwares = attack.enterprise.malwares + attack.enterprise.tools\n",
    "ttpLists = []\n",
    "for malware in malwares:\n",
    "    ttpLists.append([\"'\" + ttp.id + \"'\" for ttp in malware.techniques])"
   ]
  },
  {
   "cell_type": "code",
   "execution_count": 4,
   "metadata": {},
   "outputs": [],
   "source": [
    "# to use the apriori we need to generate a list of lists\n",
    "aprList = []\n",
    "for row in df.values:\n",
    "    aprList.append((row[13].strip('][').split(', ')))"
   ]
  },
  {
   "cell_type": "code",
   "execution_count": 5,
   "metadata": {},
   "outputs": [
    {
     "data": {
      "text/plain": [
       "746"
      ]
     },
     "execution_count": 5,
     "metadata": {},
     "output_type": "execute_result"
    }
   ],
   "source": [
    "aprList += ttpLists\n",
    "len(aprList)"
   ]
  },
  {
   "cell_type": "code",
   "execution_count": 6,
   "metadata": {},
   "outputs": [
    {
     "data": {
      "image/png": "[encoded data removed]",
      "text/plain": [
       "<Figure size 432x288 with 1 Axes>"
      ]
     },
     "metadata": {
      "needs_background": "light"
     },
     "output_type": "display_data"
    }
   ],
   "source": [
    "import matplotlib.pyplot as plt\n",
    "\n",
    "# Your list of lists of confidence values\n",
    "confidences = [[0.1, 0.5, 0.9], [0.2, 0.4, 0.8], [0.3, 0.3, 0.7]]\n",
    "\n",
    "plt.imshow(confidences, cmap='coolwarm')\n",
    "plt.show()"
   ]
  },
  {
   "cell_type": "code",
   "execution_count": 7,
   "metadata": {},
   "outputs": [
    {
     "data": {
      "text/plain": [
       "0.06166219839142091"
      ]
     },
     "execution_count": 7,
     "metadata": {},
     "output_type": "execute_result"
    }
   ],
   "source": [
    "# calculate the support of a ttp value where data is a list of lists and ttps is a list of ttps\n",
    "def calculateSupport(ttps, data):\n",
    "    count = sum([1 for l in data if set(ttps).issubset(set(l))])\n",
    "    support = count/len(data)\n",
    "    return support\n",
    "\n",
    "\n",
    "calculateSupport([\"'T1566.002'\", \"'T1204.002'\"], aprList)"
   ]
  },
  {
   "cell_type": "code",
   "execution_count": 8,
   "metadata": {},
   "outputs": [
    {
     "data": {
      "text/plain": [
       "1"
      ]
     },
     "execution_count": 8,
     "metadata": {},
     "output_type": "execute_result"
    }
   ],
   "source": [
    "# calculates the confidence of 1:1 rule where data is a list of lists\n",
    "# anticedant and consequent are lists such that anticedant -> consequent\n",
    "def calculateConfidence(anticedant, consequent, data):\n",
    "    if anticedant == consequent:\n",
    "        return 1\n",
    "    return calculateSupport(anticedant+consequent, data)/calculateSupport(anticedant, data)\n",
    "\n",
    "calculateConfidence([\"'T1566.002'\"], [\"'T1566.002'\"], aprList)"
   ]
  },
  {
   "cell_type": "code",
   "execution_count": null,
   "metadata": {},
   "outputs": [],
   "source": [
    "# loop through set of all TTPs\n",
    "from tqdm import tqdm\n",
    "ttps = list(set([item for sublist in aprList for item in sublist]))\n",
    "size = 10\n",
    "\n",
    "confidenceMatrix = [[0]*10]*10\n",
    "supportMatrix = [[0]*10]*10\n",
    "\n",
    "for ttp1 in ttps:\n",
    "    newRow = []\n",
    "    for ttp2 in ttps:\n",
    "        newRow.append(calculateConfidence([ttp1], [ttp2], aprList))\n",
    "\n",
    "        \n",
    "#         if i == 4 and j == 4:\n",
    "#             print(confidenceMatrix[4][4])\n",
    "#         for row in confidenceMatrix:\n",
    "#             print(row)\n",
    "#         print(\"\\n\\n\")"
   ]
  },
  {
   "cell_type": "code",
   "execution_count": 74,
   "metadata": {},
   "outputs": [
    {
     "data": {
      "image/png": "[encoded data removed]",
      "text/plain": [
       "<Figure size 432x288 with 1 Axes>"
      ]
     },
     "metadata": {
      "needs_background": "light"
     },
     "output_type": "display_data"
    }
   ],
   "source": [
    "plt.imshow(confidenceMatrix)\n",
    "plt.show()"
   ]
  },
  {
   "cell_type": "code",
   "execution_count": 75,
   "metadata": {},
   "outputs": [
    {
     "name": "stdout",
     "output_type": "stream",
     "text": [
      "[9, 10, 11, 12, 13, 14, 15, 16, 17, 18]\n",
      "[9, 10, 11, 12, 13, 14, 15, 16, 17, 18]\n",
      "[9, 10, 11, 12, 13, 14, 15, 16, 17, 18]\n",
      "[9, 10, 11, 12, 13, 14, 15, 16, 17, 18]\n",
      "[9, 10, 11, 12, 13, 14, 15, 16, 17, 18]\n",
      "[9, 10, 11, 12, 13, 14, 15, 16, 17, 18]\n",
      "[9, 10, 11, 12, 13, 14, 15, 16, 17, 18]\n",
      "[9, 10, 11, 12, 13, 14, 15, 16, 17, 18]\n",
      "[9, 10, 11, 12, 13, 14, 15, 16, 17, 18]\n",
      "[9, 10, 11, 12, 13, 14, 15, 16, 17, 18]\n"
     ]
    }
   ],
   "source": [
    "for row in confidenceMatrix:\n",
    "    print(row)"
   ]
  },
  {
   "cell_type": "code",
   "execution_count": 36,
   "metadata": {},
   "outputs": [],
   "source": [
    "confidenceMatrix[4][4]"
   ]
  },
  {
   "cell_type": "code",
   "execution_count": 56,
   "metadata": {},
   "outputs": [
    {
     "data": {
      "image/png": "[encoded data removed]",
      "text/plain": [
       "<Figure size 432x288 with 2 Axes>"
      ]
     },
     "metadata": {
      "needs_background": "light"
     },
     "output_type": "display_data"
    }
   ],
   "source": [
    "fig, ax = plt.subplots()\n",
    "heatmap = ax.imshow(confidenceMatrix, cmap='hot')\n",
    "fig.colorbar(heatmap)\n",
    "\n",
    "\n",
    "plt.show()"
   ]
  },
  {
   "cell_type": "code",
   "execution_count": null,
   "metadata": {},
   "outputs": [],
   "source": []
  }
 ],
 "metadata": {
  "kernelspec": {
   "display_name": "Python 3",
   "language": "python",
   "name": "python3"
  },
  "language_info": {
   "codemirror_mode": {
    "name": "ipython",
    "version": 3
   },
   "file_extension": ".py",
   "mimetype": "text/x-python",
   "name": "python",
   "nbconvert_exporter": "python",
   "pygments_lexer": "ipython3",
   "version": "3.8.3"
  }
 },
 "nbformat": 4,
 "nbformat_minor": 4
}
