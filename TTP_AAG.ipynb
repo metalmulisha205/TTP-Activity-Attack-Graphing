{
 "cells": [
  {
   "cell_type": "code",
   "execution_count": 2,
   "metadata": {},
   "outputs": [],
   "source": [
    "import numpy as np\n",
    "import matplotlib.pyplot as plt\n",
    "import pandas as pd\n",
    "from stix2.v21 import (ThreatActor, Identity, AttackPattern, Campaign, IntrusionSet, Relationship, ExternalReference, Bundle, Grouping)\n",
    "from efficient_apriori import apriori\n",
    "import re"
   ]
  },
  {
   "cell_type": "code",
   "execution_count": 38,
   "metadata": {},
   "outputs": [],
   "source": [
    "# DETERMINE APPROPRIATE INPUT VALUES\n",
    "# frame story over using actor as initial seed, use actor's TTPs as intel seed\n",
    "# Settings Values - for apriori algorithm\n",
    "confidenceLevel = 0.70\n",
    "supportLevel = 0.05\n",
    "\n",
    "# initial actor value to build the activity attack-graph from \n",
    "intelSeed = \"G0079\""
   ]
  },
  {
   "cell_type": "code",
   "execution_count": 4,
   "metadata": {},
   "outputs": [
    {
     "data": {
      "text/html": [
       "<div>\n",
       "<style scoped>\n",
       "    .dataframe tbody tr th:only-of-type {\n",
       "        vertical-align: middle;\n",
       "    }\n",
       "\n",
       "    .dataframe tbody tr th {\n",
       "        vertical-align: top;\n",
       "    }\n",
       "\n",
       "    .dataframe thead th {\n",
       "        text-align: right;\n",
       "    }\n",
       "</style>\n",
       "<table border=\"1\" class=\"dataframe\">\n",
       "  <thead>\n",
       "    <tr style=\"text-align: right;\">\n",
       "      <th></th>\n",
       "      <th>mitre_attack_id</th>\n",
       "      <th>mitre_attack_name</th>\n",
       "      <th>mitre_attack_aliases</th>\n",
       "      <th>mitre_attack_created</th>\n",
       "      <th>mitre_attack_last_modified</th>\n",
       "      <th>etda_id</th>\n",
       "      <th>etda_name</th>\n",
       "      <th>etda_aliases</th>\n",
       "      <th>etda_first_seen</th>\n",
       "      <th>country</th>\n",
       "      <th>motivation</th>\n",
       "      <th>victim_industries</th>\n",
       "      <th>victim_countries</th>\n",
       "      <th>mitre_attack_ttps</th>\n",
       "    </tr>\n",
       "  </thead>\n",
       "  <tbody>\n",
       "    <tr>\n",
       "      <th>0</th>\n",
       "      <td>intrusion-set--dc5e2999-ca1a-47d4-8d12-a6984b1...</td>\n",
       "      <td>UNC2452</td>\n",
       "      <td>['UNC2452', 'NOBELIUM', 'StellarParticle', 'Da...</td>\n",
       "      <td>2021-01-05</td>\n",
       "      <td>2021-05-04</td>\n",
       "      <td>93ba9804-335e-4782-855d-40af22b93201</td>\n",
       "      <td>APT 29, Cozy Bear, The Dukes</td>\n",
       "      <td>['APT 29', 'Cozy Bear', 'The Dukes', 'Group 10...</td>\n",
       "      <td>2008</td>\n",
       "      <td>RU</td>\n",
       "      <td>['Information theft and espionage']</td>\n",
       "      <td>['Defense', 'Energy', 'Government', 'Law enfor...</td>\n",
       "      <td>['Australia', 'Azerbaijan', 'Belarus', 'Belgiu...</td>\n",
       "      <td>['T1484.002', 'T1071.001', 'T1053.005', 'T1036...</td>\n",
       "    </tr>\n",
       "    <tr>\n",
       "      <th>1</th>\n",
       "      <td>intrusion-set--8f5e8dc7-739d-4f5e-a8a1-a66e004...</td>\n",
       "      <td>Cleaver</td>\n",
       "      <td>['Cleaver', 'Threat Group 2889', 'TG-2889']</td>\n",
       "      <td>2017-05-31</td>\n",
       "      <td>2021-10-12</td>\n",
       "      <td>4622bc44-8c01-4807-8d12-b22352472c29</td>\n",
       "      <td>Cutting Kitten, TG-2889</td>\n",
       "      <td>['Cutting Kitten', 'TG-2889', 'Operation “Clea...</td>\n",
       "      <td>2012</td>\n",
       "      <td>IR</td>\n",
       "      <td>['Information theft and espionage']</td>\n",
       "      <td>['Aerospace', 'Aviation', 'Chemical', 'Defense...</td>\n",
       "      <td>['Canada', 'China', 'France', 'Germany', 'Indi...</td>\n",
       "      <td>['T1588.002', 'T1003.001', 'T1587.001', 'T1585...</td>\n",
       "    </tr>\n",
       "    <tr>\n",
       "      <th>2</th>\n",
       "      <td>intrusion-set--0ea72cd5-ca30-46ba-bc04-378f701...</td>\n",
       "      <td>GCMAN</td>\n",
       "      <td>['GCMAN']</td>\n",
       "      <td>2017-05-31</td>\n",
       "      <td>2020-03-30</td>\n",
       "      <td>e6eeb30a-a941-46f9-8340-20958f1d6cb0</td>\n",
       "      <td>GCMAN</td>\n",
       "      <td>['GCMAN']</td>\n",
       "      <td>2016</td>\n",
       "      <td>RU</td>\n",
       "      <td>['Financial crime']</td>\n",
       "      <td>['Financial']</td>\n",
       "      <td>['Russia']</td>\n",
       "      <td>['T1021.005', 'T1021.004']</td>\n",
       "    </tr>\n",
       "    <tr>\n",
       "      <th>3</th>\n",
       "      <td>intrusion-set--dd2d9ca6-505b-4860-a604-233685b...</td>\n",
       "      <td>Wizard Spider</td>\n",
       "      <td>['Wizard Spider', 'UNC1878', 'TEMP.MixMaster',...</td>\n",
       "      <td>2020-05-12</td>\n",
       "      <td>2021-10-14</td>\n",
       "      <td>480940e0-47b0-4295-9067-c2500ccfdaec</td>\n",
       "      <td>Wizard Spider, Gold Blackburn</td>\n",
       "      <td>['Wizard Spider', 'Grim Spider', 'TEMP.MixMast...</td>\n",
       "      <td>2014</td>\n",
       "      <td>RU</td>\n",
       "      <td>['Financial crime', 'Financial gain']</td>\n",
       "      <td>['Defense', 'Financial', 'Government', 'Health...</td>\n",
       "      <td>None Provided</td>\n",
       "      <td>['T1053.005', 'T1033', 'T1070.004', 'T1059.003...</td>\n",
       "    </tr>\n",
       "    <tr>\n",
       "      <th>4</th>\n",
       "      <td>intrusion-set--f9d6633a-55e6-4adc-9263-6ae0804...</td>\n",
       "      <td>Magic Hound</td>\n",
       "      <td>['Magic Hound', 'TA453', 'COBALT ILLUSION', 'C...</td>\n",
       "      <td>2018-01-16</td>\n",
       "      <td>2022-04-17</td>\n",
       "      <td>bb9b25ed-9ddc-4f65-bd01-ab8d6efc34ac</td>\n",
       "      <td>Magic Hound, APT 35, Cobalt Gypsy, Charming Ki...</td>\n",
       "      <td>['Magic Hound', 'APT 35', 'Cobalt Illusion', '...</td>\n",
       "      <td>2012</td>\n",
       "      <td>IR</td>\n",
       "      <td>['Information theft and espionage']</td>\n",
       "      <td>['Defense', 'Energy', 'Financial', 'Government...</td>\n",
       "      <td>['Afghanistan', 'Canada', 'Egypt', 'Iran', 'Ir...</td>\n",
       "      <td>['T1071', 'T1564.003', 'T1560.001', 'T1586.002...</td>\n",
       "    </tr>\n",
       "  </tbody>\n",
       "</table>\n",
       "</div>"
      ],
      "text/plain": [
       "                                     mitre_attack_id mitre_attack_name  \\\n",
       "0  intrusion-set--dc5e2999-ca1a-47d4-8d12-a6984b1...           UNC2452   \n",
       "1  intrusion-set--8f5e8dc7-739d-4f5e-a8a1-a66e004...           Cleaver   \n",
       "2  intrusion-set--0ea72cd5-ca30-46ba-bc04-378f701...             GCMAN   \n",
       "3  intrusion-set--dd2d9ca6-505b-4860-a604-233685b...     Wizard Spider   \n",
       "4  intrusion-set--f9d6633a-55e6-4adc-9263-6ae0804...       Magic Hound   \n",
       "\n",
       "                                mitre_attack_aliases mitre_attack_created  \\\n",
       "0  ['UNC2452', 'NOBELIUM', 'StellarParticle', 'Da...           2021-01-05   \n",
       "1        ['Cleaver', 'Threat Group 2889', 'TG-2889']           2017-05-31   \n",
       "2                                          ['GCMAN']           2017-05-31   \n",
       "3  ['Wizard Spider', 'UNC1878', 'TEMP.MixMaster',...           2020-05-12   \n",
       "4  ['Magic Hound', 'TA453', 'COBALT ILLUSION', 'C...           2018-01-16   \n",
       "\n",
       "  mitre_attack_last_modified                               etda_id  \\\n",
       "0                 2021-05-04  93ba9804-335e-4782-855d-40af22b93201   \n",
       "1                 2021-10-12  4622bc44-8c01-4807-8d12-b22352472c29   \n",
       "2                 2020-03-30  e6eeb30a-a941-46f9-8340-20958f1d6cb0   \n",
       "3                 2021-10-14  480940e0-47b0-4295-9067-c2500ccfdaec   \n",
       "4                 2022-04-17  bb9b25ed-9ddc-4f65-bd01-ab8d6efc34ac   \n",
       "\n",
       "                                           etda_name  \\\n",
       "0                       APT 29, Cozy Bear, The Dukes   \n",
       "1                            Cutting Kitten, TG-2889   \n",
       "2                                              GCMAN   \n",
       "3                      Wizard Spider, Gold Blackburn   \n",
       "4  Magic Hound, APT 35, Cobalt Gypsy, Charming Ki...   \n",
       "\n",
       "                                        etda_aliases  etda_first_seen country  \\\n",
       "0  ['APT 29', 'Cozy Bear', 'The Dukes', 'Group 10...             2008      RU   \n",
       "1  ['Cutting Kitten', 'TG-2889', 'Operation “Clea...             2012      IR   \n",
       "2                                          ['GCMAN']             2016      RU   \n",
       "3  ['Wizard Spider', 'Grim Spider', 'TEMP.MixMast...             2014      RU   \n",
       "4  ['Magic Hound', 'APT 35', 'Cobalt Illusion', '...             2012      IR   \n",
       "\n",
       "                              motivation  \\\n",
       "0    ['Information theft and espionage']   \n",
       "1    ['Information theft and espionage']   \n",
       "2                    ['Financial crime']   \n",
       "3  ['Financial crime', 'Financial gain']   \n",
       "4    ['Information theft and espionage']   \n",
       "\n",
       "                                   victim_industries  \\\n",
       "0  ['Defense', 'Energy', 'Government', 'Law enfor...   \n",
       "1  ['Aerospace', 'Aviation', 'Chemical', 'Defense...   \n",
       "2                                      ['Financial']   \n",
       "3  ['Defense', 'Financial', 'Government', 'Health...   \n",
       "4  ['Defense', 'Energy', 'Financial', 'Government...   \n",
       "\n",
       "                                    victim_countries  \\\n",
       "0  ['Australia', 'Azerbaijan', 'Belarus', 'Belgiu...   \n",
       "1  ['Canada', 'China', 'France', 'Germany', 'Indi...   \n",
       "2                                         ['Russia']   \n",
       "3                                      None Provided   \n",
       "4  ['Afghanistan', 'Canada', 'Egypt', 'Iran', 'Ir...   \n",
       "\n",
       "                                   mitre_attack_ttps  \n",
       "0  ['T1484.002', 'T1071.001', 'T1053.005', 'T1036...  \n",
       "1  ['T1588.002', 'T1003.001', 'T1587.001', 'T1585...  \n",
       "2                         ['T1021.005', 'T1021.004']  \n",
       "3  ['T1053.005', 'T1033', 'T1070.004', 'T1059.003...  \n",
       "4  ['T1071', 'T1564.003', 'T1560.001', 'T1586.002...  "
      ]
     },
     "execution_count": 4,
     "metadata": {},
     "output_type": "execute_result"
    }
   ],
   "source": [
    "df = pd.read_csv(\"Categorized_Adversary_TTPs.csv\") # sample dataset of attacks\n",
    "df.head()"
   ]
  },
  {
   "cell_type": "code",
   "execution_count": 5,
   "metadata": {},
   "outputs": [],
   "source": [
    "# tactics = pd.read_csv(\"enterprise-attack-v12.1-tactics.csv\") # list of all possible tactics\n",
    "# tactics.head()"
   ]
  },
  {
   "cell_type": "code",
   "execution_count": 6,
   "metadata": {},
   "outputs": [],
   "source": [
    "# techniques = pd.read_csv(\"enterprise-attack-v12.1-techniques.csv\") # list of all possible techniques \n",
    "# techniques.head()"
   ]
  },
  {
   "cell_type": "code",
   "execution_count": 59,
   "metadata": {},
   "outputs": [],
   "source": [
    "# to use the apriori we need to generate a list of lists\n",
    "aprList = []\n",
    "for row in df.values:\n",
    "    aprList.append((row[13].strip('][').split(', ')))"
   ]
  },
  {
   "cell_type": "code",
   "execution_count": null,
   "metadata": {},
   "outputs": [],
   "source": []
  },
  {
   "cell_type": "code",
   "execution_count": 8,
   "metadata": {},
   "outputs": [],
   "source": [
    "from pyattck import Attck\n",
    "\n",
    "attack = Attck()\n",
    "\n",
    "#dictionary for high speed access\n",
    "actors = {}\n",
    "for actor in attack.enterprise.actors:\n",
    "    actors[actor.id] = actor\n",
    "malwares = attack.enterprise.malwares + attack.enterprise.tools\n",
    "ttpLists = []\n",
    "for malware in malwares:\n",
    "    ttpLists.append([\"'\" + ttp.id + \"'\" for ttp in malware.techniques])"
   ]
  },
  {
   "cell_type": "code",
   "execution_count": 9,
   "metadata": {},
   "outputs": [
    {
     "name": "stdout",
     "output_type": "stream",
     "text": [
      "[\"'T1562.001'\", \"'T1046'\"]\n",
      "[\"'T1210'\", \"'T1105'\", \"'T1005'\", \"'T1112'\", \"'T1055.012'\", \"'T1087.003'\", \"'T1021.005'\", \"'T1497.003'\", \"'T1036'\", \"'T1542.003'\", \"'T1553.002'\", \"'T1041'\", \"'T1007'\", \"'T1495'\", \"'T1559.001'\", \"'T1566.002'\", \"'T1110.004'\", \"'T1106'\", \"'T1082'\", \"'T1008'\", \"'T1069'\", \"'T1562.001'\", \"'T1059.001'\", \"'T1135'\", \"'T1033'\", \"'T1132.001'\", \"'T1083'\", \"'T1065'\", \"'T1016'\", \"'T1018'\", \"'T1071.001'\", \"'T1185'\", \"'T1219'\", \"'T1555.005'\", \"'T1055'\", \"'T1552.001'\", \"'T1204.002'\", \"'T1555.003'\", \"'T1056.004'\", \"'T1027'\", \"'T1057'\", \"'T1543.003'\", \"'T1571'\", \"'T1087.001'\", \"'T1090.002'\", \"'T1059.003'\", \"'T1482'\", \"'T1140'\", \"'T1566.001'\", \"'T1053.005'\", \"'T1027.002'\", \"'T1552.002'\", \"'T1547.001'\", \"'T1573.001'\"]\n",
      "[\"'T1124'\", \"'T1485'\", \"'T1082'\", \"'T1010'\", \"'T1564.004'\", \"'T1027.003'\", \"'T1218.011'\", \"'T1105'\", \"'T1547.001'\", \"'T1033'\", \"'T1057'\", \"'T1083'\", \"'T1059.003'\", \"'T1016'\", \"'T1070.004'\"]\n",
      "[\"'T1016'\", \"'T1489'\", \"'T1562.001'\", \"'T1486'\", \"'T1490'\", \"'T1027'\", \"'T1036.005'\", \"'T1047'\", \"'T1057'\"]\n",
      "[\"'T1573.001'\", \"'T1036.005'\", \"'T1218.011'\", \"'T1204.002'\", \"'T1005'\", \"'T1082'\", \"'T1105'\", \"'T1083'\", \"'T1566.001'\", \"'T1027.002'\", \"'T1129'\", \"'T1059.003'\", \"'T1027'\", \"'T1016'\", \"'T1132.001'\", \"'T1041'\", \"'T1071.001'\", \"'T1070.004'\", \"'T1070.006'\", \"'T1140'\", \"'T1553.002'\"]\n",
      "[\"'T1105'\", \"'T1055'\", \"'T1543.003'\", \"'T1059.003'\"]\n",
      "[\"'T1070.004'\", \"'T1113'\", \"'T1036'\", \"'T1057'\", \"'T1112'\", \"'T1033'\", \"'T1548.002'\", \"'T1573'\", \"'T1071.001'\", \"'T1005'\", \"'T1105'\", \"'T1055.012'\", \"'T1218.007'\", \"'T1106'\", \"'T1574.002'\", \"'T1095'\", \"'T1547.001'\", \"'T1082'\", \"'T1056.001'\", \"'T1059.003'\", \"'T1027'\"]\n",
      "[\"'T1614.001'\", \"'T1071.001'\", \"'T1497.002'\", \"'T1140'\", \"'T1041'\", \"'T1132.001'\", \"'T1027.002'\", \"'T1033'\", \"'T1059.003'\", \"'T1082'\"]\n",
      "[\"'T1083'\", \"'T1005'\", \"'T1120'\", \"'T1113'\", \"'T1071.001'\", \"'T1105'\", \"'T1016.001'\", \"'T1135'\", \"'T1564.003'\"]\n",
      "[\"'T1497.001'\", \"'T1082'\", \"'T1033'\", \"'T1486'\", \"'T1012'\", \"'T1112'\", \"'T1083'\", \"'T1007'\", \"'T1057'\", \"'T1614.001'\", \"'T1106'\", \"'T1070.001'\", \"'T1055.013'\", \"'T1027'\"]\n"
     ]
    }
   ],
   "source": [
    "for i in range(0,10):\n",
    "    print(ttpLists[i])"
   ]
  },
  {
   "cell_type": "code",
   "execution_count": 60,
   "metadata": {},
   "outputs": [
    {
     "data": {
      "text/plain": [
       "746"
      ]
     },
     "execution_count": 60,
     "metadata": {},
     "output_type": "execute_result"
    }
   ],
   "source": [
    "aprList += ttpLists\n",
    "len(aprList)"
   ]
  },
  {
   "cell_type": "code",
   "execution_count": 61,
   "metadata": {},
   "outputs": [
    {
     "name": "stdout",
     "output_type": "stream",
     "text": [
      "[\"'T1036.002'\", \"'T1036.005'\", \"'T1583.001'\", \"'T1566.001'\", \"'T1204.002'\", \"'T1588.002'\"]\n",
      "[\"'T1070.004'\", \"'T1053.003'\", \"'T1046'\", \"'T1543.002'\", \"'T1562.001'\", \"'T1071'\", \"'T1037'\", \"'T1059.006'\", \"'T1027.002'\", \"'T1071.001'\", \"'T1547.001'\", \"'T1057'\", \"'T1018'\", \"'T1027'\", \"'T1105'\", \"'T1070.002'\", \"'T1059.004'\", \"'T1222.002'\", \"'T1055.002'\", \"'T1102'\", \"'T1027.004'\", \"'T1082'\", \"'T1552.004'\", \"'T1014'\", \"'T1574.006'\", \"'T1070.006'\", \"'T1140'\", \"'T1564.001'\", \"'T1190'\", \"'T1102.001'\", \"'T1496'\", \"'T1036.005'\", \"'T1571'\", \"'T1021.004'\", \"'T1562.004'\", \"'T1518.001'\"]\n"
     ]
    }
   ],
   "source": [
    "#short visual of lists\n",
    "for i in range(50,52):\n",
    "    print(aprList[i])"
   ]
  },
  {
   "cell_type": "code",
   "execution_count": 44,
   "metadata": {},
   "outputs": [
    {
     "name": "stdout",
     "output_type": "stream",
     "text": [
      "[[\"'T1484'\", \"'T1071'\", \"'T1053'\", \"'T1036'\", \"'T1584'\", \"'T1195'\", \"'T1606'\", \"'T1016'\", \"'T1105'\", \"'T1114'\", \"'T1070'\", \"'T1069'\", \"'T1082'\", \"'T1074'\", \"'T1190'\", \"'T1552'\", \"'T1482'\", \"'T1003'\", \"'T1140'\", \"'T1558'\", \"'T1568'\", \"'T1562'\", \"'T1059'\", \"'T1560'\", \"'T1562'\", \"'T1021'\", \"'T1562'\", \"'T1036'\", \"'T1059'\", \"'T1587'\", \"'T1048'\", \"'T1098'\", \"'T1550'\", \"'T1133'\", \"'T1070'\", \"'T1098'\", \"'T1583'\", \"'T1018'\", \"'T1027'\", \"'T1036'\", \"'T1606'\", \"'T1553'\", \"'T1087'\", \"'T1218'\", \"'T1057'\", \"'T1047'\", \"'T1078'\", \"'T1546'\", \"'T1070'\", \"'T1005'\", \"'T1090'\", \"'T1555'\", \"'T1083'\", \"'T1550'\"], [\"'T1588'\", \"'T1003'\", \"'T1587'\", \"'T1585'\", \"'T1557'\"], [\"'T1021'\", \"'T1021'\"], [\"'T1053'\", \"'T1033'\", \"'T1070'\", \"'T1059'\", \"'T1518'\", \"'T1566'\", \"'T1557'\", \"'T1547'\", \"'T1018'\", \"'T1078'\", \"'T1112'\", \"'T1569'\", \"'T1074'\", \"'T1048'\", \"'T1547'\", \"'T1021'\", \"'T1087'\", \"'T1135'\", \"'T1071'\", \"'T1566'\", \"'T1003'\", \"'T1021'\", \"'T1082'\", \"'T1558'\", \"'T1543'\", \"'T1047'\", \"'T1222'\", \"'T1489'\", \"'T1588'\", \"'T1041'\", \"'T1588'\", \"'T1204'\", \"'T1078'\", \"'T1059'\", \"'T1133'\", \"'T1553'\", \"'T1027'\", \"'T1570'\", \"'T1562'\", \"'T1036'\", \"'T1021'\", \"'T1204'\", \"'T1003'\", \"'T1210'\", \"'T1016'\", \"'T1055'\"], [\"'T1071'\", \"'T1564'\", \"'T1560'\", \"'T1586'\", \"'T1059'\", \"'T1113'\", \"'T1583'\", \"'T1595'\", \"'T1583'\", \"'T1114'\", \"'T1070'\", \"'T1102'\", \"'T1059'\", \"'T1105'\", \"'T1056'\", \"'T1204'\", \"'T1114'\", \"'T1043'\", \"'T1057'\", \"'T1033'\", \"'T1588'\", \"'T1547'\", \"'T1098'\", \"'T1589'\", \"'T1566'\", \"'T1585'\", \"'T1071'\", \"'T1598'\", \"'T1189'\", \"'T1589'\", \"'T1571'\", \"'T1566'\", \"'T1016'\", \"'T1003'\", \"'T1585'\", \"'T1027'\", \"'T1083'\", \"'T1204'\", \"'T1082'\", \"'T1190'\", \"'T1589'\", \"'T1065'\", \"'T1584'\", \"'T1059'\"], [\"'T1119'\", \"'T1560'\", \"'T1543'\", \"'T1078'\", \"'T1003'\", \"'T1574'\", \"'T1574'\", \"'T1548'\", \"'T1133'\", \"'T1074'\", \"'T1055'\", \"'T1074'\", \"'T1567'\", \"'T1608'\", \"'T1555'\", \"'T1012'\", \"'T1047'\", \"'T1046'\", \"'T1053'\", \"'T1112'\", \"'T1070'\", \"'T1105'\", \"'T1027'\", \"'T1059'\", \"'T1203'\", \"'T1547'\", \"'T1140'\", \"'T1588'\", \"'T1016'\", \"'T1003'\", \"'T1018'\", \"'T1068'\", \"'T1003'\", \"'T1030'\", \"'T1056'\", \"'T1043'\", \"'T1204'\", \"'T1608'\", \"'T1071'\", \"'T1562'\", \"'T1033'\", \"'T1189'\", \"'T1070'\", \"'T1199'\", \"'T1195'\", \"'T1190'\", \"'T1027'\", \"'T1505'\", \"'T1087'\", \"'T1021'\", \"'T1566'\", \"'T1049'\", \"'T1210'\", \"'T1059'\", \"'T1005'\", \"'T1608'\"], [\"'T1113'\", \"'T1553'\", \"'T1218'\", \"'T1059'\", \"'T1027'\", \"'T1090'\", \"'T1106'\", \"'T1055'\", \"'T1059'\", \"'T1021'\", \"'T1125'\", \"'T1059'\", \"'T1059'\", \"'T1053'\", \"'T1036'\", \"'T1003'\", \"'T1018'\", \"'T1105'\", \"'T1072'\", \"'T1588'\", \"'T1070'\", \"'T1204'\", \"'T1547'\", \"'T1569'\", \"'T1078'\", \"'T1566'\", \"'T1112'\", \"'T1571'\"], [\"'T1124'\", \"'T1021'\", \"'T1065'\", \"'T1090'\", \"'T1059'\", \"'T1620'\", \"'T1587'\", \"'T1591'\", \"'T1202'\", \"'T1491'\", \"'T1105'\", \"'T1562'\", \"'T1566'\", \"'T1036'\", \"'T1561'\", \"'T1104'\", \"'T1046'\", \"'T1218'\", \"'T1021'\", \"'T1049'\", \"'T1204'\", \"'T1543'\", \"'T1561'\", \"'T1021'\", \"'T1534'\", \"'T1584'\", \"'T1134'\", \"'T1041'\", \"'T1547'\", \"'T1110'\", \"'T1087'\", \"'T1082'\", \"'T1588'\", \"'T1036'\", \"'T1584'\", \"'T1016'\", \"'T1485'\", \"'T1560'\", \"'T1001'\", \"'T1098'\", \"'T1110'\", \"'T1497'\", \"'T1593'\", \"'T1566'\", \"'T1585'\", \"'T1220'\", \"'T1036'\", \"'T1585'\", \"'T1048'\", \"'T1614'\", \"'T1542'\", \"'T1562'\", \"'T1026'\", \"'T1059'\", \"'T1218'\", \"'T1547'\", \"'T1071'\", \"'T1589'\", \"'T1218'\", \"'T1055'\", \"'T1583'\", \"'T1027'\", \"'T1203'\", \"'T1106'\", \"'T1189'\", \"'T1043'\", \"'T1074'\", \"'T1591'\", \"'T1529'\", \"'T1078'\", \"'T1012'\", \"'T1588'\", \"'T1560'\", \"'T1574'\", \"'T1053'\", \"'T1132'\", \"'T1140'\", \"'T1090'\", \"'T1564'\", \"'T1070'\", \"'T1608'\", \"'T1070'\", \"'T1036'\", \"'T1056'\", \"'T1583'\", \"'T1567'\", \"'T1005'\", \"'T1010'\", \"'T1583'\", \"'T1070'\", \"'T1553'\", \"'T1608'\", \"'T1033'\", \"'T1070'\", \"'T1573'\", \"'T1059'\", \"'T1588'\", \"'T1204'\", \"'T1221'\", \"'T1560'\", \"'T1557'\", \"'T1027'\", \"'T1047'\", \"'T1102'\", \"'T1574'\", \"'T1057'\", \"'T1566'\", \"'T1083'\", \"'T1571'\", \"'T1218'\", \"'T1008'\", \"'T1489'\"], [\"'T1133'\", \"'T1105'\", \"'T1574'\", \"'T1588'\", \"'T1071'\", \"'T1056'\", \"'T1218'\", \"'T1071'\", \"'T1083'\", \"'T1203'\", \"'T1008'\", \"'T1070'\", \"'T1542'\", \"'T1480'\", \"'T1547'\", \"'T1574'\", \"'T1218'\", \"'T1195'\", \"'T1049'\", \"'T1036'\", \"'T1104'\", \"'T1070'\", \"'T1112'\", \"'T1055'\", \"'T1070'\", \"'T1560'\", \"'T1021'\", \"'T1496'\", \"'T1486'\", \"'T1102'\", \"'T1059'\", \"'T1046'\", \"'T1569'\", \"'T1110'\", \"'T1546'\", \"'T1003'\", \"'T1053'\", \"'T1553'\", \"'T1135'\", \"'T1014'\", \"'T1574'\", \"'T1566'\", \"'T1027'\", \"'T1190'\", \"'T1059'\", \"'T1036'\", \"'T1197'\", \"'T1136'\", \"'T1021'\", \"'T1568'\", \"'T1047'\", \"'T1543'\", \"'T1078'\", \"'T1090'\", \"'T1071'\", \"'T1016'\", \"'T1005'\", \"'T1059'\", \"'T1033'\"], [\"'T1588'\", \"'T1566'\", \"'T1588'\", \"'T1566'\", \"'T1204'\", \"'T1046'\", \"'T1021'\", \"'T1204'\", \"'T1190'\", \"'T1203'\", \"'T1588'\", \"'T1574'\", \"'T1036'\", \"'T1106'\"]]\n"
     ]
    }
   ],
   "source": [
    "# what if we try to use more abstract data by removing sub techniques \n",
    "for i in range(0,len(aprList)):\n",
    "    aprList[i] = [re.sub(r'\\.[0-9]+', '', ttp) for ttp in aprList[i]]\n",
    "\n",
    "print(aprList[0:10])"
   ]
  },
  {
   "cell_type": "code",
   "execution_count": 62,
   "metadata": {},
   "outputs": [],
   "source": [
    "# perform apriori rule association mining\n",
    "itemsets, rules = apriori(aprList, min_support=supportLevel, min_confidence=confidenceLevel)"
   ]
  },
  {
   "cell_type": "code",
   "execution_count": 63,
   "metadata": {},
   "outputs": [],
   "source": [
    "# sorting the rules by confidence for now\n",
    "ruleNums = np.array([len(rule.lhs+rule.rhs) for rule in rules])\n",
    "rules = np.array(rules)\n",
    "inds = ruleNums.argsort()[::]\n",
    "rules = rules[inds]\n",
    "rules2 = filter(lambda rule: len(rule.lhs+rule.rhs) <= 4, rules)"
   ]
  },
  {
   "cell_type": "code",
   "execution_count": 64,
   "metadata": {},
   "outputs": [
    {
     "data": {
      "text/plain": [
       "0.16085790884718498"
      ]
     },
     "execution_count": 64,
     "metadata": {},
     "output_type": "execute_result"
    }
   ],
   "source": [
    "rules = [x for x in rules2]\n",
    "rules[0].support"
   ]
  },
  {
   "cell_type": "code",
   "execution_count": 53,
   "metadata": {},
   "outputs": [
    {
     "data": {
      "text/plain": [
       "[{'T1057', 'T1204'} -> {'T1071'},\n",
       " {'T1057', 'T1112'} -> {'T1071'},\n",
       " {'T1057', 'T1071'} -> {'T1105'},\n",
       " {'T1057', 'T1071'} -> {'T1082'},\n",
       " {'T1057', 'T1560'} -> {'T1070'},\n",
       " {'T1057', 'T1543'} -> {'T1070'},\n",
       " {'T1057', 'T1218'} -> {'T1070'},\n",
       " {'T1057', 'T1113'} -> {'T1070'},\n",
       " {'T1057', 'T1070'} -> {'T1105'},\n",
       " {'T1057', 'T1518'} -> {'T1059'}]"
      ]
     },
     "execution_count": 53,
     "metadata": {},
     "output_type": "execute_result"
    }
   ],
   "source": [
    "rules[100:110]"
   ]
  },
  {
   "cell_type": "code",
   "execution_count": 16,
   "metadata": {},
   "outputs": [],
   "source": [
    "import requests\n",
    "from stix2 import MemoryStore, Filter\n",
    "\n",
    "def get_data_from_branch(domain):\n",
    "    \"\"\"get the ATT&CK STIX data from MITRE/CTI. Domain should be 'enterprise-attack', 'mobile-attack' or 'ics-attack'. Branch should typically be master.\"\"\"\n",
    "    stix_json = requests.get(f\"https://raw.githubusercontent.com/mitre-attack/attack-stix-data/master/{domain}/{domain}.json\").json()\n",
    "    return MemoryStore(stix_data=stix_json[\"objects\"])\n",
    "\n",
    "src = get_data_from_branch(\"enterprise-attack\")"
   ]
  },
  {
   "cell_type": "code",
   "execution_count": 65,
   "metadata": {},
   "outputs": [
    {
     "data": {
      "text/plain": [
       "['T1187',\n",
       " 'T1204.002',\n",
       " 'T1566.001',\n",
       " 'T1564.003',\n",
       " 'T1221',\n",
       " 'T1059.001',\n",
       " 'T1588.002']"
      ]
     },
     "execution_count": 65,
     "metadata": {},
     "output_type": "execute_result"
    }
   ],
   "source": [
    "# get TTPs from actor\n",
    "seeds = []\n",
    "actor = actors[intelSeed]\n",
    "for ttp in actor.techniques:\n",
    "    seeds.append(ttp.id)\n",
    "seeds\n",
    "\n",
    "# also abstract the seed if we are going with abstract stuff here\n",
    "# what if we try to use more abstract data by removing sub techniques \n",
    "# for i in range(0,len(seeds)):\n",
    "#     seeds[i] = re.sub(r'\\.[0-9]+', '', seeds[i])\n",
    "seeds"
   ]
  },
  {
   "cell_type": "code",
   "execution_count": 66,
   "metadata": {},
   "outputs": [
    {
     "name": "stdout",
     "output_type": "stream",
     "text": [
      "initial seed: \n",
      "\n",
      "T1187\n",
      "Forced Authentication\t['credential-access']\n",
      "\n",
      "T1204.002\n",
      "Malicious File\t['execution']\n",
      "\n",
      "T1566.001\n",
      "Spearphishing Attachment\t['initial-access']\n",
      "\n",
      "T1564.003\n",
      "Hidden Window\t['defense-evasion']\n",
      "\n",
      "T1221\n",
      "Template Injection\t['defense-evasion']\n",
      "\n",
      "T1059.001\n",
      "PowerShell\t['execution']\n",
      "\n",
      "T1588.002\n",
      "Tool\t['resource-development']\n",
      "\n",
      "\n",
      "\n",
      "Generated TTP Suggestions:\n",
      "\n",
      "Ingress Tool Transfer\t['command-and-control']\n",
      "\n",
      "Windows Command Shell\t['execution']\n",
      "\n",
      "Obfuscated Files or Information\t['defense-evasion']\n",
      "\n",
      "Web Protocols\t['command-and-control']\n",
      "\n",
      "Registry Run Keys / Startup Folder\t['persistence', 'privilege-escalation']\n",
      "\n",
      "System Information Discovery\t['discovery']\n",
      "\n",
      "Deobfuscate/Decode Files or Information\t['defense-evasion']\n",
      "\n",
      "File and Directory Discovery\t['discovery']\n",
      "\n",
      "File Deletion\t['defense-evasion']\n",
      "\n",
      "Process Discovery\t['discovery']\n",
      "\n"
     ]
    }
   ],
   "source": [
    "# each rule has a confidence, lift, support, lhs, rhs, conviction, rule power factor (RPF), \n",
    "# print(intelSeed)\n",
    "# ruleName = techniques.loc[techniques[\"ID\"] == intelSeed[1:-1]][\"name\"]\n",
    "# ruleTactic = techniques.loc[techniques[\"ID\"] == intelSeed[1:-1]][\"tactics\"]\n",
    "# print(ruleName.to_string() + \"   \" + ruleTactic.to_string())\n",
    "actions = []\n",
    "seen = []\n",
    "objects = []\n",
    "relationships = {}\n",
    "groupings = {} \n",
    "relationshipTracker = []\n",
    "# use a queue to iterate through and create a tree of TTPs\n",
    "print(\"initial seed: \\n\")\n",
    "for seed in seeds:\n",
    "    print(seed)\n",
    "    ttp = src.query([ Filter(\"external_references.external_id\", \"=\", seed) ])[0]\n",
    "    tactics = []\n",
    "    groupings[seed] = (Grouping(object_refs=[ttp.id], context = \"Seed Event\"))\n",
    "    objects.append(src.query([ Filter(\"external_references.external_id\", \"=\", seed) ])[0])\n",
    "    for i in ttp['kill_chain_phases']:\n",
    "        tactics.append(i['phase_name'])\n",
    "    print(f\"{ttp['name']}\\t{tactics}\\n\")\n",
    "    seen.append(\"'\" + seed + \"'\")\n",
    "\n",
    "seedTotals = [\"'\"+x+\"'\" for x in seeds]\n",
    "\n",
    "#print(seen)\n",
    "count = 0\n",
    "while len(seeds) > 0:\n",
    "    for rule in rules:\n",
    "        if \"'\"+seeds[0]+\"'\" in rule.lhs and set(rule.lhs).issubset(seedTotals):\n",
    "            for a in rule.rhs:\n",
    "                if a not in seen:\n",
    "                    ttp = src.query([ Filter(\"external_references.external_id\", \"=\", a[1:-1]) ])[0]\n",
    "                    tactics = []\n",
    "                    for i in ttp['kill_chain_phases']:\n",
    "                        tactics.append(i['phase_name'])\n",
    "                    groupings[a[1:-1]] = (Grouping(object_refs=[ttp.id], context = \"Hypothesized Event\"))\n",
    "                    \n",
    "                    actions.append([ttp['name'], tactics])\n",
    "                    objects.append(ttp)\n",
    "                    seedTotals.append(a)\n",
    "                    seen.append(a)\n",
    "                    seeds.append(ttp['external_references'][0]['external_id'])\n",
    "                \n",
    "                \n",
    "                if not (groupings[seeds[0]]['id'], groupings[a[1:-1]]['id']) in relationships:\n",
    "                    if (groupings[a[1:-1]]['id'], groupings[seeds[0]]['id']) in relationships:\n",
    "                        if float(relationships[(groupings[a[1:-1]]['id'], groupings[seeds[0]]['id'])]['relationship_type']) < rule.confidence:\n",
    "                            continue\n",
    "                        else:\n",
    "                               del relationships[(groupings[a[1:-1]]['id'], groupings[seeds[0]]['id'])]\n",
    "                    relationships[(groupings[seeds[0]]['id'], groupings[a[1:-1]]['id'])] = Relationship(groupings[seeds[0]]['id'], str(round(rule.confidence, 3)), groupings[a[1:-1]]['id'])\n",
    "                    count+=1\n",
    "                \n",
    "                \n",
    "                \n",
    "#         elif \"'\"+seeds[0]+\"'\" in rule.rhs and set(rule.rhs).issubset(seedTotals):\n",
    "#             for a in rule.lhs:\n",
    "#                 if a not in seen:\n",
    "#                     ttp = src.query([ Filter(\"external_references.external_id\", \"=\", a[1:-1]) ])[0]\n",
    "#                     tactics = []\n",
    "#                     for i in ttp['kill_chain_phases']:\n",
    "#                         tactics.append(i['phase_name'])\n",
    "#                     groupings[a[1:-1]] = (Grouping(object_refs=[ttp.id], context = \"test\"))\n",
    "#                     actions.append([ttp['name'], tactics])\n",
    "#                     seedTotals.append(a)\n",
    "#                     objects.append(ttp)\n",
    "#                     seen.append(a)\n",
    "#                     seeds.append(ttp['external_references'][0]['external_id'])\n",
    "                    \n",
    "#                 if (groupings[seeds[0]]['id'], groupings[a[1:-1]]['id']) not in relationshipTracker:\n",
    "#                     relationshipTracker.append((groupings[seeds[0]]['id'], groupings[a[1:-1]]['id']))\n",
    "#                     relationships.append(Relationship(groupings[a[1:-1]]['id'], str(round(rule.confidence, 3)), groupings[seeds[0]]['id']))\n",
    "\n",
    "    seeds.pop(0)\n",
    "\n",
    "\n",
    "\n",
    "\n",
    "print(\"\\n\\nGenerated TTP Suggestions:\\n\")\n",
    "for action in actions:\n",
    "    print(f\"{action[0]}\\t{action[1]}\\n\")"
   ]
  },
  {
   "cell_type": "code",
   "execution_count": 56,
   "metadata": {},
   "outputs": [
    {
     "data": {
      "text/plain": [
       "71"
      ]
     },
     "execution_count": 56,
     "metadata": {},
     "output_type": "execute_result"
    }
   ],
   "source": [
    "len(relationships)"
   ]
  },
  {
   "cell_type": "code",
   "execution_count": null,
   "metadata": {},
   "outputs": [],
   "source": []
  },
  {
   "cell_type": "code",
   "execution_count": null,
   "metadata": {},
   "outputs": [],
   "source": []
  },
  {
   "cell_type": "code",
   "execution_count": 57,
   "metadata": {},
   "outputs": [],
   "source": [
    "bundle = Bundle(objects+list(groupings.values())+list(relationships.values()), allow_custom=True)"
   ]
  },
  {
   "cell_type": "code",
   "execution_count": 58,
   "metadata": {},
   "outputs": [],
   "source": [
    "with open(\"abstract_G0079.json\", \"w\") as f:\n",
    "    f.write(bundle.serialize())\n",
    "    f.close()"
   ]
  },
  {
   "cell_type": "code",
   "execution_count": 19,
   "metadata": {},
   "outputs": [],
   "source": [
    "# need to create relationshiops\n",
    "# for some reason APOs are off center under tactics "
   ]
  },
  {
   "cell_type": "code",
   "execution_count": 89,
   "metadata": {},
   "outputs": [
    {
     "data": {
      "image/png": "[encoded data removed]",
      "text/plain": [
       "<Figure size 432x288 with 1 Axes>"
      ]
     },
     "metadata": {
      "needs_background": "light"
     },
     "output_type": "display_data"
    }
   ],
   "source": [
    "import matplotlib.pyplot as plt\n",
    "from collections import Counter\n",
    "\n",
    "def calculate_support(lists):\n",
    "    value_counts = {}\n",
    "    total_values = 0\n",
    "    for lst in lists:\n",
    "        for value in lst:\n",
    "            value_counts[value] = value_counts.get(value, 0) + 1\n",
    "            total_values += 1\n",
    "    return {value: count / total_values for value, count in value_counts.items()}\n",
    "\n",
    "\n",
    "support = calculate_support(aprList)\n",
    "\n",
    "data = aprList\n",
    "\n",
    "# Flatten the list of lists\n",
    "flattened_data = [item for sublist in data for item in sublist]\n",
    "\n",
    "# Count the occurrences of each category\n",
    "histogram = Counter(flattened_data)\n",
    "\n",
    "plt.bar(histogram.keys(), histogram.values())\n",
    "plt.title(\"Histogram of categorical data\")\n",
    "plt.xlabel(\"Category\")\n",
    "plt.ylabel(\"Frequency\")\n",
    "plt.show()\n"
   ]
  },
  {
   "cell_type": "code",
   "execution_count": 90,
   "metadata": {},
   "outputs": [],
   "source": [
    "numTTPs = 185 + 367\n",
    "numObserved = len(histogram.keys())\n",
    "ruleObservations = []\n",
    "for rule in rules:\n",
    "    ruleObservations.append([x for x in rule.lhs+rule.rhs])\n",
    "ruleObservations = [item for sublist in ruleObservations for item in sublist]\n",
    "numRuleObs = len(set(ruleObservations))"
   ]
  },
  {
   "cell_type": "code",
   "execution_count": null,
   "metadata": {},
   "outputs": [],
   "source": []
  },
  {
   "cell_type": "code",
   "execution_count": 82,
   "metadata": {},
   "outputs": [
    {
     "data": {
      "text/plain": [
       "51"
      ]
     },
     "execution_count": 82,
     "metadata": {},
     "output_type": "execute_result"
    }
   ],
   "source": [
    "numRuleObs"
   ]
  },
  {
   "cell_type": "code",
   "execution_count": 58,
   "metadata": {},
   "outputs": [],
   "source": [
    "def calculate_support(lists):\n",
    "    value_counts = {}\n",
    "    total_values = 0\n",
    "    for lst in lists:\n",
    "        for value in lst:\n",
    "            value_counts[value] = value_counts.get(value, 0) + 1\n",
    "            total_values += 1\n",
    "    return {value: count / total_values for value, count in value_counts.items()}\n",
    "\n",
    "\n",
    "support = calculate_support(aprList)"
   ]
  },
  {
   "cell_type": "code",
   "execution_count": 87,
   "metadata": {},
   "outputs": [],
   "source": [
    "# for val in support:\n",
    "#     print(val)"
   ]
  },
  {
   "cell_type": "code",
   "execution_count": null,
   "metadata": {},
   "outputs": [],
   "source": []
  },
  {
   "cell_type": "code",
   "execution_count": null,
   "metadata": {},
   "outputs": [],
   "source": [
    "'''\n",
    "to get:\n",
    "\n",
    "- raw data: table of rules with metrics\n",
    "- json files and screenshot for visualization\n",
    "'''"
   ]
  },
  {
   "cell_type": "code",
   "execution_count": 75,
   "metadata": {},
   "outputs": [],
   "source": [
    "def extract_rules(rules):\n",
    "    data = []\n",
    "    for rule in rules:\n",
    "        row = [str(rule.lhs) + \" -> \" + str(rule.rhs), rule.confidence, rule.support, rule.lift]\n",
    "        data.append(row)\n",
    "    ruleDF = pd.DataFrame(data, columns=[\"Rule\", \"Confidence\", \"Support\", \"Lift\"])\n",
    "    return ruleDF"
   ]
  },
  {
   "cell_type": "code",
   "execution_count": 76,
   "metadata": {},
   "outputs": [],
   "source": [
    "rdf = extract_rules(rules)\n"
   ]
  },
  {
   "cell_type": "code",
   "execution_count": 78,
   "metadata": {},
   "outputs": [],
   "source": [
    "rdf.to_csv(\"AbstractRules.csv\", encoding='utf-8', index=False)"
   ]
  },
  {
   "cell_type": "code",
   "execution_count": 77,
   "metadata": {},
   "outputs": [
    {
     "data": {
      "text/html": [
       "<div>\n",
       "<style scoped>\n",
       "    .dataframe tbody tr th:only-of-type {\n",
       "        vertical-align: middle;\n",
       "    }\n",
       "\n",
       "    .dataframe tbody tr th {\n",
       "        vertical-align: top;\n",
       "    }\n",
       "\n",
       "    .dataframe thead th {\n",
       "        text-align: right;\n",
       "    }\n",
       "</style>\n",
       "<table border=\"1\" class=\"dataframe\">\n",
       "  <thead>\n",
       "    <tr style=\"text-align: right;\">\n",
       "      <th></th>\n",
       "      <th>Rule</th>\n",
       "      <th>Confidence</th>\n",
       "      <th>Support</th>\n",
       "      <th>Lift</th>\n",
       "    </tr>\n",
       "  </thead>\n",
       "  <tbody>\n",
       "    <tr>\n",
       "      <th>0</th>\n",
       "      <td>(\"'T1003'\",) -&gt; (\"'T1059'\",)</td>\n",
       "      <td>0.709302</td>\n",
       "      <td>0.081769</td>\n",
       "      <td>1.259856</td>\n",
       "    </tr>\n",
       "    <tr>\n",
       "      <th>1</th>\n",
       "      <td>(\"'T1564'\",) -&gt; (\"'T1059'\",)</td>\n",
       "      <td>0.757576</td>\n",
       "      <td>0.100536</td>\n",
       "      <td>1.345599</td>\n",
       "    </tr>\n",
       "    <tr>\n",
       "      <th>2</th>\n",
       "      <td>(\"'T1562'\",) -&gt; (\"'T1059'\",)</td>\n",
       "      <td>0.776596</td>\n",
       "      <td>0.097855</td>\n",
       "      <td>1.379382</td>\n",
       "    </tr>\n",
       "    <tr>\n",
       "      <th>3</th>\n",
       "      <td>(\"'T1555'\",) -&gt; (\"'T1059'\",)</td>\n",
       "      <td>0.755814</td>\n",
       "      <td>0.087131</td>\n",
       "      <td>1.342470</td>\n",
       "    </tr>\n",
       "    <tr>\n",
       "      <th>4</th>\n",
       "      <td>(\"'T1553'\",) -&gt; (\"'T1059'\",)</td>\n",
       "      <td>0.739130</td>\n",
       "      <td>0.068365</td>\n",
       "      <td>1.312836</td>\n",
       "    </tr>\n",
       "  </tbody>\n",
       "</table>\n",
       "</div>"
      ],
      "text/plain": [
       "                           Rule  Confidence   Support      Lift\n",
       "0  (\"'T1003'\",) -> (\"'T1059'\",)    0.709302  0.081769  1.259856\n",
       "1  (\"'T1564'\",) -> (\"'T1059'\",)    0.757576  0.100536  1.345599\n",
       "2  (\"'T1562'\",) -> (\"'T1059'\",)    0.776596  0.097855  1.379382\n",
       "3  (\"'T1555'\",) -> (\"'T1059'\",)    0.755814  0.087131  1.342470\n",
       "4  (\"'T1553'\",) -> (\"'T1059'\",)    0.739130  0.068365  1.312836"
      ]
     },
     "execution_count": 77,
     "metadata": {},
     "output_type": "execute_result"
    }
   ],
   "source": [
    "rdf.head()"
   ]
  },
  {
   "cell_type": "code",
   "execution_count": null,
   "metadata": {},
   "outputs": [],
   "source": []
  }
 ],
 "metadata": {
  "kernelspec": {
   "display_name": "Python 3",
   "language": "python",
   "name": "python3"
  },
  "language_info": {
   "codemirror_mode": {
    "name": "ipython",
    "version": 3
   },
   "file_extension": ".py",
   "mimetype": "text/x-python",
   "name": "python",
   "nbconvert_exporter": "python",
   "pygments_lexer": "ipython3",
   "version": "3.8.5"
  }
 },
 "nbformat": 4,
 "nbformat_minor": 4
}
