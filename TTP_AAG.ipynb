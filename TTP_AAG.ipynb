{
 "cells": [
  {
   "cell_type": "code",
   "execution_count": 8,
   "metadata": {},
   "outputs": [],
   "source": [
    "import numpy as np\n",
    "import matplotlib.pyplot as plt\n",
    "import pandas as pd\n",
    "from stix2.v21 import (ThreatActor, Identity, AttackPattern, Campaign, IntrusionSet, Relationship, ExternalReference, Bundle, Grouping)\n",
    "from efficient_apriori import apriori\n",
    "import re\n",
    "from pyattck import Attck\n",
    "import requests\n",
    "from stix2 import MemoryStore, Filter"
   ]
  },
  {
   "cell_type": "code",
   "execution_count": 9,
   "metadata": {},
   "outputs": [],
   "source": [
    "# Settings Values - for apriori algorithm\n",
    "confidenceLevel = 0.70\n",
    "supportLevel = 0.05\n",
    "abstract = False\n",
    "# initial actor value to build the activity attack-graph from \n",
    "intelSeed = \"G0079\""
   ]
  },
  {
   "cell_type": "code",
   "execution_count": 10,
   "metadata": {},
   "outputs": [],
   "source": [
    "def GenerateAprioriLists():\n",
    "    # some data comes from this dataset with TTPs\n",
    "    df = pd.read_csv(\"Categorized_Adversary_TTPs.csv\") # sample dataset of attacks\n",
    "\n",
    "\n",
    "    # more data is gained by using attck data from tool and malware TTPs\n",
    "    attack = Attck()\n",
    "\n",
    "    malwares = attack.enterprise.malwares + attack.enterprise.tools\n",
    "    ttpLists = []\n",
    "    for malware in malwares:\n",
    "        ttpLists.append([\"'\" + ttp.id + \"'\" for ttp in malware.techniques])\n",
    "\n",
    "    # to use the apriori we need to generate a list of lists\n",
    "    aprList = ttpLists\n",
    "    for row in df.values:\n",
    "        aprList.append((row[13].strip('][').split(', ')))\n",
    "    return aprList"
   ]
  },
  {
   "cell_type": "code",
   "execution_count": 11,
   "metadata": {},
   "outputs": [],
   "source": [
    "def AbstractTTPs(ttpList):\n",
    "    # take sub-techniques and remove the .### to abstract them to parent techniques \n",
    "    for i in range(0,len(ttpList)):\n",
    "        ttpList[i] = [re.sub(r'\\.[0-9]+', '', ttp) for ttp in ttpList[i]]\n",
    "    return ttpList "
   ]
  },
  {
   "cell_type": "code",
   "execution_count": 12,
   "metadata": {},
   "outputs": [],
   "source": [
    "# takes a list of lists and returns a list of rules sorted by size \n",
    "def AprioriMining(aprList):\n",
    "    # perform apriori rule association mining\n",
    "    itemsets, rules = apriori(aprList, min_support=supportLevel, min_confidence=confidenceLevel)\n",
    "    \n",
    "    # sort by size to get the 1:1 mappings first and so on. \n",
    "    ruleNums = np.array([len(rule.lhs+rule.rhs) for rule in rules])\n",
    "    rules = np.array(rules)\n",
    "    inds = ruleNums.argsort()[::]\n",
    "    rules = rules[inds]\n",
    "    \n",
    "    # maximum rule size of 4 to limit number of rules, any rules with size > 4 are redundant anyways\n",
    "    rules = [x for x in filter(lambda rule: len(rule.lhs+rule.rhs) <= 4, rules)]\n",
    "    return rules"
   ]
  },
  {
   "cell_type": "code",
   "execution_count": 13,
   "metadata": {},
   "outputs": [],
   "source": [
    "# downloads latest MITRE framework from the branch\n",
    "def get_data_from_branch(domain):\n",
    "    \"\"\"get the ATT&CK STIX data from MITRE/CTI. Domain should be 'enterprise-attack', 'mobile-attack' or 'ics-attack'. Branch should typically be master.\"\"\"\n",
    "    stix_json = requests.get(f\"https://raw.githubusercontent.com/mitre-attack/attack-stix-data/master/{domain}/{domain}.json\").json()\n",
    "    return MemoryStore(stix_data=stix_json[\"objects\"])\n",
    "\n",
    "src = get_data_from_branch(\"enterprise-attack\")"
   ]
  },
  {
   "cell_type": "code",
   "execution_count": 14,
   "metadata": {},
   "outputs": [],
   "source": [
    "# get TTPs from seed, where seed is an APT group code: GXXXX\n",
    "def ExtractSeedTTPs(seed):\n",
    "    seeds = []\n",
    "    actor = actors[seed]\n",
    "    for ttp in actor.techniques:\n",
    "        seeds.append(ttp.id)\n",
    "        \n",
    "    # if we are using abstracted TTPs then remove sub technique\n",
    "    if (abstract):\n",
    "        for i in range(0, len(seeds)):\n",
    "            seeds[i] = re.sub(r'\\.[0-9]+', '', seeds[i])\n",
    "    return seeds"
   ]
  },
  {
   "cell_type": "code",
   "execution_count": 15,
   "metadata": {},
   "outputs": [],
   "source": [
    "def ExportBundle(bundle, filename):\n",
    "    with open(filename, \"w\") as f:\n",
    "        f.write(bundle.serialize())\n",
    "        f.close()"
   ]
  },
  {
   "cell_type": "code",
   "execution_count": 35,
   "metadata": {},
   "outputs": [],
   "source": [
    "# taken from mitre stix - https://github.com/mitre-attack/attack-stix-data/blob/master/USAGE.md#access-the-most-recent-version-from-github-via-requests\n",
    "def get_related(thesrc, src_type, rel_type, target_type, reverse=False):\n",
    "    \"\"\"build relationship mappings\n",
    "       params:\n",
    "         thesrc: MemoryStore to build relationship lookups for\n",
    "         src_type: source type for the relationships, e.g \"attack-pattern\"\n",
    "         rel_type: relationship type for the relationships, e.g \"uses\"\n",
    "         target_type: target type for the relationship, e.g \"intrusion-set\"\n",
    "         reverse: build reverse mapping of target to source\n",
    "    \"\"\"\n",
    "\n",
    "    relationships = thesrc.query([\n",
    "        Filter('type', '=', 'relationship'),\n",
    "        Filter('relationship_type', '=', rel_type),\n",
    "        Filter('revoked', '=', False),\n",
    "    ])\n",
    "\n",
    "    # See section below on \"Removing revoked and deprecated objects\"\n",
    "    relationships = remove_revoked_deprecated(relationships)\n",
    "\n",
    "    # stix_id => [ { relationship, related_object_id } for each related object ]\n",
    "    id_to_related = {}\n",
    "\n",
    "    # build the dict\n",
    "    for relationship in relationships:\n",
    "        if src_type in relationship.source_ref and target_type in relationship.target_ref:\n",
    "            if (relationship.source_ref in id_to_related and not reverse) or (relationship.target_ref in id_to_related and reverse):\n",
    "                # append to existing entry\n",
    "                if not reverse:\n",
    "                    id_to_related[relationship.source_ref].append({\n",
    "                        \"relationship\": relationship,\n",
    "                        \"id\": relationship.target_ref\n",
    "                    })\n",
    "                else:\n",
    "                    id_to_related[relationship.target_ref].append({\n",
    "                        \"relationship\": relationship,\n",
    "                        \"id\": relationship.source_ref\n",
    "                    })\n",
    "            else:\n",
    "                # create a new entry\n",
    "                if not reverse:\n",
    "                    id_to_related[relationship.source_ref] = [{\n",
    "                        \"relationship\": relationship,\n",
    "                        \"id\": relationship.target_ref\n",
    "                    }]\n",
    "                else:\n",
    "                    id_to_related[relationship.target_ref] = [{\n",
    "                        \"relationship\": relationship,\n",
    "                        \"id\": relationship.source_ref\n",
    "                    }]\n",
    "    # all objects of relevant type\n",
    "    if not reverse:\n",
    "        targets = thesrc.query([\n",
    "            Filter('type', '=', target_type),\n",
    "            Filter('revoked', '=', False)\n",
    "        ])\n",
    "    else:\n",
    "        targets = thesrc.query([\n",
    "            Filter('type', '=', src_type),\n",
    "            Filter('revoked', '=', False)\n",
    "        ])\n",
    "\n",
    "    # build lookup of stixID to stix object\n",
    "    id_to_target = {}\n",
    "    for target in targets:\n",
    "        id_to_target[target.id] = target\n",
    "\n",
    "    # build final output mappings\n",
    "    output = {}\n",
    "    for stix_id in id_to_related:\n",
    "        value = []\n",
    "        for related in id_to_related[stix_id]:\n",
    "            if not related[\"id\"] in id_to_target:\n",
    "                continue  # targeting a revoked object\n",
    "            value.append({\n",
    "                \"object\": id_to_target[related[\"id\"]],\n",
    "                \"relationship\": related[\"relationship\"]\n",
    "            })\n",
    "        output[stix_id] = value\n",
    "    return output\n",
    "\n",
    "def remove_revoked_deprecated(stix_objects):\n",
    "    \"\"\"Remove any revoked or deprecated objects from queries made to the data source\"\"\"\n",
    "    # Note we use .get() because the property may not be present in the JSON data. The default is False\n",
    "    # if the property is not set.\n",
    "    return list(\n",
    "        filter(\n",
    "            lambda x: x.get(\"x_mitre_deprecated\", False) is False and x.get(\"revoked\", False) is False,\n",
    "            stix_objects\n",
    "        )\n",
    "    )"
   ]
  },
  {
   "cell_type": "code",
   "execution_count": 33,
   "metadata": {},
   "outputs": [],
   "source": [
    "# taken from mitre stix - https://github.com/mitre-attack/attack-stix-data/blob/master/USAGE.md#access-the-most-recent-version-from-github-via-requests\n",
    "def technique_mitigated_by_mitigations(thesrc):\n",
    "    \"\"\"return technique_id => {mitigation, relationship} for each mitigation of the technique.\"\"\"\n",
    "    return get_related(thesrc, \"course-of-action\", \"mitigates\", \"attack-pattern\", reverse=True)"
   ]
  },
  {
   "cell_type": "code",
   "execution_count": 114,
   "metadata": {},
   "outputs": [],
   "source": [
    "def get_mitigations_from_technique(thesrc, stix_id):\n",
    "    # returns list of mitigation objects and relationships linked to attack pattern object\n",
    "    mitigations = technique_mitigated_by_mitigations(src)\n",
    "    if (stix_id in mitigations.keys()):\n",
    "        mitigations = mitigations[stix_id]\n",
    "    else:\n",
    "        mitigations = []\n",
    "    return mitigations"
   ]
  },
  {
   "cell_type": "code",
   "execution_count": 99,
   "metadata": {},
   "outputs": [
    {
     "data": {
      "text/plain": [
       "0"
      ]
     },
     "execution_count": 99,
     "metadata": {},
     "output_type": "execute_result"
    }
   ],
   "source": [
    "len(get_mitigations_from_technique(src, \"attack-pattern--1ecb2399-e8ba-4f6b-8ba7-5c27d49405cf\"))"
   ]
  },
  {
   "cell_type": "code",
   "execution_count": 120,
   "metadata": {},
   "outputs": [],
   "source": [
    "# each rule has a confidence, lift, support, lhs, rhs, conviction, rule power factor (RPF), \n",
    "\n",
    "# takes an APTGroup and generates hypothesized relationships and attack pattern objects\n",
    "# returns a tuple of: (displayInfo, attackPatterns, relationships, groupings, mitigationObjects)\n",
    "def CreateRelationships(APTGroup, aprioriLists):\n",
    "    displayInfo = [] #stores the TTP and tactic for easy logging\n",
    "    seen = [] #stores TTPs that have been seen by the algorithm\n",
    "    attackPatterns = [] #stores generated attack pattern objects\n",
    "    relationships = {} # stores generated relationship objects\n",
    "    groupings = {} # stores generated grouping objects\n",
    "    \n",
    "    mitigationRelationships = {} # {stix id, object}\n",
    "    mitigationObjects = {} # {stix id, [COA object, count]} #stores all mitigation objects\n",
    "    \n",
    "    \n",
    "    # get seeds out of the APT group\n",
    "    #seeds = ExtractSeedTTPs(APTGroup)\n",
    "    seeds = [\"T1566\", \"T1204\"]\n",
    "    \n",
    "    # perform association rule mining\n",
    "    rules = AprioriMining(aprioriLists) \n",
    "    \n",
    "    #add seeds to activity-attack-graph as nodes\n",
    "    for seed in seeds:\n",
    "        # get the stix object for the TTP\n",
    "        ttp = src.query([ Filter(\"external_references.external_id\", \"=\", seed) ])[0]\n",
    "        \n",
    "        # create and add objects to lists, context is used to identify seeds from hypothesized events\n",
    "        groupings[seed] = (Grouping(object_refs=[ttp.id], context = \"Seed Event\"))\n",
    "        attackPatterns.append(src.query([ Filter(\"external_references.external_id\", \"=\", seed) ])[0])\n",
    "    \n",
    "    seedTotals = [\"'\"+x+\"'\" for x in seeds]\n",
    "    # use a queue to iterate through and create a tree of TTPs\n",
    "    while len(seeds) > 0:\n",
    "        for rule in rules:\n",
    "            # check to see if the left hand side of a rule is satisfied \n",
    "            if \"'\"+seeds[0]+\"'\" in rule.lhs and set(rule.lhs).issubset(seedTotals):\n",
    "                #if the lhs is satisfied, then loop through each TTP in the rhs \n",
    "                for ttpName in rule.rhs:\n",
    "                    # if this TTP hasn't been visited already then create STIX objects\n",
    "                    if ttpName not in seen:\n",
    "                        ttp = src.query([ Filter(\"external_references.external_id\", \"=\", ttpName[1:-1]) ])[0]\n",
    "                        \n",
    "                        # track rule tactics for logging to displayInfo\n",
    "                        tactics = []\n",
    "                        for i in ttp['kill_chain_phases']:\n",
    "                            tactics.append(i['phase_name'])\n",
    "                        \n",
    "                        mitigations = get_mitigations_from_technique(src, ttp.id)\n",
    "                        for m in mitigations:\n",
    "                            mitigation = m[\"object\"]\n",
    "                            relationship = m[\"relationship\"]\n",
    "                            mitigationRelationships[relationship.id] = relationship\n",
    "                            if mitigation.id in mitigationObjects.keys():\n",
    "                                mitigationObjects[mitigation.id][1] += 1\n",
    "                            else:\n",
    "                                mitigationObjects[mitigation.id] = [mitigation, 1]\n",
    "                        \n",
    "                        # create a new grouping object with the rule name. \n",
    "                        # I am using ttpName[1:-1] here because TTPs have quotes around them for some reason \n",
    "                        # so I want to get rid of the quotes\n",
    "                        # later I will fix this issue so that ttpName[1:-1] is not neccessary\n",
    "                        groupings[ttpName[1:-1]] = (Grouping(object_refs=[ttp.id]+[mitigation[\"object\"].id for mitigation in mitigations], context = \"Hypothesized Event\"))\n",
    "                        #groupings[ttpName[1:-1]] = (Grouping(object_refs=[ttp.id, MITIGATION OBJECT ID], context = \"Hypothesized Event\"))\n",
    "                        \n",
    "\n",
    "                        \n",
    "                        displayInfo.append([ttp['name'], ttpName[1:-1], tactics])\n",
    "                        attackPatterns.append(ttp)\n",
    "                        seedTotals.append(ttpName)\n",
    "                        seen.append(ttpName)\n",
    "                        seeds.append(ttp['external_references'][0]['external_id'])\n",
    "\n",
    "                    # if the relationship already exists between two objects then we take the one with higher confidence\n",
    "                    # make sure the exact relationship does not alraedy exist\n",
    "                    if not (groupings[seeds[0]]['id'], groupings[ttpName[1:-1]]['id']) in relationships:\n",
    "                        # if the opposite relationship exists then choose the one with the highest confidence to add\n",
    "                        # we do this because if we do not then on the graph there will be two arrows going opposite directions to connect the same 2 TTPs\n",
    "                        # this causes clutter and makes the confidence values unreadable since they will be layered on top of each other\n",
    "                        if (groupings[ttpName[1:-1]]['id'], groupings[seeds[0]]['id']) in relationships:\n",
    "                            # if existing relationship has higher confidence, move on\n",
    "                            if float(relationships[(groupings[ttpName[1:-1]]['id'], groupings[seeds[0]]['id'])]['relationship_type']) > rule.confidence:\n",
    "                                continue # move to next iteration of for loop, so code after this statement won't execute\n",
    "                            # if existing relationship has lower confidence, delete it and let the new relationship take it's place\n",
    "                            else:\n",
    "                                del relationships[(groupings[ttpName[1:-1]]['id'], groupings[seeds[0]]['id'])]\n",
    "                        relationships[(groupings[seeds[0]]['id'], groupings[ttpName[1:-1]]['id'])] = Relationship(groupings[seeds[0]]['id'], str(round(rule.confidence, 3)), groupings[ttpName[1:-1]]['id'])\n",
    "        \n",
    "        # pop to progress the queue\n",
    "        seeds.pop(0)\n",
    "\n",
    "    return (displayInfo, attackPatterns, relationships, groupings, mitigationObjects, mitigationRelationships)"
   ]
  },
  {
   "cell_type": "code",
   "execution_count": 93,
   "metadata": {},
   "outputs": [],
   "source": [
    "aprioriList = AbstractTTPs(GenerateAprioriLists()) # generate lists for apriori\n",
    "#aprioriList = (GenerateAprioriLists())\n"
   ]
  },
  {
   "cell_type": "code",
   "execution_count": 121,
   "metadata": {},
   "outputs": [],
   "source": [
    "displayInfo, attackPatterns, relationships, groupings, mitigationObjects, mitigationRelationships = CreateRelationships(intelSeed, aprioriList)"
   ]
  },
  {
   "cell_type": "code",
   "execution_count": 13,
   "metadata": {},
   "outputs": [
    {
     "name": "stdout",
     "output_type": "stream",
     "text": [
      "T1059:\tCommand and Scripting Interpreter\t ['execution']\n",
      "\n",
      "T1105:\tIngress Tool Transfer\t ['command-and-control']\n",
      "\n",
      "T1204:\tUser Execution\t ['execution']\n",
      "\n",
      "T1027:\tObfuscated Files or Information\t ['defense-evasion']\n",
      "\n",
      "T1071:\tApplication Layer Protocol\t ['command-and-control']\n",
      "\n",
      "T1082:\tSystem Information Discovery\t ['discovery']\n",
      "\n",
      "T1547:\tBoot or Logon Autostart Execution\t ['persistence', 'privilege-escalation']\n",
      "\n",
      "T1566:\tPhishing\t ['initial-access']\n",
      "\n",
      "T1140:\tDeobfuscate/Decode Files or Information\t ['defense-evasion']\n",
      "\n",
      "T1057:\tProcess Discovery\t ['discovery']\n",
      "\n",
      "T1083:\tFile and Directory Discovery\t ['discovery']\n",
      "\n",
      "T1070:\tIndicator Removal\t ['defense-evasion']\n",
      "\n"
     ]
    }
   ],
   "source": [
    "# displays the results of the algorithm \n",
    "for info in displayInfo:\n",
    "    print(f\"{info[1]}:\\t{info[0]}\\t {info[2]}\")\n",
    "    print(\"\")"
   ]
  },
  {
   "cell_type": "code",
   "execution_count": 111,
   "metadata": {},
   "outputs": [
    {
     "data": {
      "text/plain": [
       "list"
      ]
     },
     "execution_count": 111,
     "metadata": {},
     "output_type": "execute_result"
    }
   ],
   "source": [
    "sssss = [m[0] for m in mitigationObjects.values()]\n",
    "type(sssss)"
   ]
  },
  {
   "cell_type": "code",
   "execution_count": 122,
   "metadata": {},
   "outputs": [],
   "source": [
    "# bundle up stix objects\n",
    "bundle = Bundle(attackPatterns+list(groupings.values())+list(relationships.values())+list(mitigationRelationships.values())+[m[0] for m in mitigationObjects.values()], allow_custom=True)"
   ]
  },
  {
   "cell_type": "code",
   "execution_count": 123,
   "metadata": {},
   "outputs": [],
   "source": [
    "# export stix objects for visualization here: https://github.com/yukh1402/cti-stix-diamond-activity-attack-graph\n",
    "ExportBundle(bundle, \"test.json\")"
   ]
  },
  {
   "cell_type": "code",
   "execution_count": 19,
   "metadata": {},
   "outputs": [],
   "source": [
    "# need to create relationshiops\n",
    "# for some reason APOs are off center under tactics "
   ]
  },
  {
   "cell_type": "code",
   "execution_count": 124,
   "metadata": {},
   "outputs": [
    {
     "data": {
      "text/plain": [
       "[Relationship(type='relationship', spec_version='2.1', id='relationship--2cf7243f-d5d7-473b-9cb7-27c7186565d3', created_by_ref='identity--c78cb6e5-0c4b-4611-8297-d1b8b55e40b5', created='2020-03-09T13:41:14.474Z', modified='2022-05-24T14:00:00.188Z', relationship_type='mitigates', description='Where possible, only permit execution of signed scripts.', source_ref='course-of-action--590777b3-b475-4c7c-aaf8-f4a73b140312', target_ref='attack-pattern--7385dfaf-6886-4229-9ecd-6fd678040830', revoked=False, object_marking_refs=['marking-definition--fa42a846-8d90-4e51-bc29-71d5b4802168'], x_mitre_attack_spec_version='2.1.0', x_mitre_domains=['enterprise-attack'], x_mitre_modified_by_ref='identity--c78cb6e5-0c4b-4611-8297-d1b8b55e40b5', x_mitre_version='1.0'),\n",
       " Relationship(type='relationship', spec_version='2.1', id='relationship--6abc6901-d152-4b5f-b27d-8b973ae567cb', created_by_ref='identity--c78cb6e5-0c4b-4611-8297-d1b8b55e40b5', created='2020-03-09T13:41:14.499Z', modified='2022-05-24T14:00:00.188Z', relationship_type='mitigates', description='Disable or remove any unnecessary or unused shells or interpreters.', source_ref='course-of-action--eb88d97c-32f1-40be-80f0-d61a4b0b4b31', target_ref='attack-pattern--7385dfaf-6886-4229-9ecd-6fd678040830', revoked=False, object_marking_refs=['marking-definition--fa42a846-8d90-4e51-bc29-71d5b4802168'], x_mitre_attack_spec_version='2.1.0', x_mitre_domains=['enterprise-attack'], x_mitre_modified_by_ref='identity--c78cb6e5-0c4b-4611-8297-d1b8b55e40b5', x_mitre_version='1.0'),\n",
       " Relationship(type='relationship', spec_version='2.1', id='relationship--87fd0088-41da-47ac-bd69-a8ac151a0d39', created_by_ref='identity--c78cb6e5-0c4b-4611-8297-d1b8b55e40b5', created='2019-06-24T18:00:41.676Z', modified='2022-05-24T14:00:00.188Z', relationship_type='mitigates', description='Use application control where appropriate.', source_ref='course-of-action--47e0e9fe-96ce-4f65-8bb1-8be1feacb5db', target_ref='attack-pattern--7385dfaf-6886-4229-9ecd-6fd678040830', revoked=False, object_marking_refs=['marking-definition--fa42a846-8d90-4e51-bc29-71d5b4802168'], x_mitre_attack_spec_version='2.1.0', x_mitre_domains=['enterprise-attack'], x_mitre_modified_by_ref='identity--c78cb6e5-0c4b-4611-8297-d1b8b55e40b5', x_mitre_version='1.0'),\n",
       " Relationship(type='relationship', spec_version='2.1', id='relationship--8d56622d-547a-4daa-89b8-1c555d1ac5b7', created_by_ref='identity--c78cb6e5-0c4b-4611-8297-d1b8b55e40b5', created='2020-06-23T18:59:50.979Z', modified='2022-05-24T14:00:00.188Z', relationship_type='mitigates', description='Anti-virus can be used to automatically quarantine suspicious files. ', source_ref='course-of-action--a6a47a06-08fc-4ec4-bdc3-20373375ebb9', target_ref='attack-pattern--7385dfaf-6886-4229-9ecd-6fd678040830', revoked=False, object_marking_refs=['marking-definition--fa42a846-8d90-4e51-bc29-71d5b4802168'], x_mitre_attack_spec_version='2.1.0', x_mitre_domains=['enterprise-attack'], x_mitre_modified_by_ref='identity--c78cb6e5-0c4b-4611-8297-d1b8b55e40b5', x_mitre_version='1.0'),\n",
       " Relationship(type='relationship', spec_version='2.1', id='relationship--ad32e902-6f48-4c8f-bc3d-2fc06f045eed', created_by_ref='identity--c78cb6e5-0c4b-4611-8297-d1b8b55e40b5', created='2020-03-09T13:41:14.487Z', modified='2022-03-27T13:51:59.155Z', relationship_type='mitigates', description='When PowerShell is necessary, restrict PowerShell execution policy to administrators. Be aware that there are methods of bypassing the PowerShell execution policy, depending on environment configuration.(Citation: Netspi PowerShell Execution Policy Bypass)', source_ref='course-of-action--9bb9e696-bff8-4ae1-9454-961fc7d91d5f', target_ref='attack-pattern--7385dfaf-6886-4229-9ecd-6fd678040830', revoked=False, external_references=[ExternalReference(source_name='Netspi PowerShell Execution Policy Bypass', description='Sutherland, S. (2014, September 9). 15 Ways to Bypass the PowerShell Execution Policy. Retrieved July 23, 2015.', url='https://blog.netspi.com/15-ways-to-bypass-the-powershell-execution-policy/')], object_marking_refs=['marking-definition--fa42a846-8d90-4e51-bc29-71d5b4802168'], x_mitre_attack_spec_version='2.1.0', x_mitre_domains=['enterprise-attack'], x_mitre_modified_by_ref='identity--c78cb6e5-0c4b-4611-8297-d1b8b55e40b5', x_mitre_version='1.0'),\n",
       " Relationship(type='relationship', spec_version='2.1', id='relationship--d4dbffc2-246d-4fd4-8c3c-0e7901aaef05', created_by_ref='identity--c78cb6e5-0c4b-4611-8297-d1b8b55e40b5', created='2020-06-23T19:14:12.712Z', modified='2022-05-24T14:00:00.188Z', relationship_type='mitigates', description='Script blocking extensions can help prevent the execution of scripts and HTA files that may commonly be used during the exploitation process. For malicious code served up through ads, adblockers can help prevent that code from executing in the first place.', source_ref='course-of-action--21da4fd4-27ad-4e9c-b93d-0b9b14d02c96', target_ref='attack-pattern--7385dfaf-6886-4229-9ecd-6fd678040830', revoked=False, object_marking_refs=['marking-definition--fa42a846-8d90-4e51-bc29-71d5b4802168'], x_mitre_attack_spec_version='2.1.0', x_mitre_domains=['enterprise-attack'], x_mitre_modified_by_ref='identity--c78cb6e5-0c4b-4611-8297-d1b8b55e40b5', x_mitre_version='1.0'),\n",
       " Relationship(type='relationship', spec_version='2.1', id='relationship--e93059c7-2f60-47f5-af11-bc0a6e7e6d25', created_by_ref='identity--c78cb6e5-0c4b-4611-8297-d1b8b55e40b5', created='2021-07-20T02:42:50.494Z', modified='2022-03-27T13:51:59.227Z', relationship_type='mitigates', description='On Windows 10, enable Attack Surface Reduction (ASR) rules to prevent [Visual Basic](https://attack.mitre.org/techniques/T1059/005) and [JavaScript](https://attack.mitre.org/techniques/T1059/007) scripts from executing potentially malicious downloaded content (Citation: win10_asr).', source_ref='course-of-action--90f39ee1-d5a3-4aaa-9f28-3b42815b0d46', target_ref='attack-pattern--7385dfaf-6886-4229-9ecd-6fd678040830', revoked=False, external_references=[ExternalReference(source_name='win10_asr', description='Microsoft. (2021, July 2). Use attack surface reduction rules to prevent malware infection. Retrieved June 24, 2021.', url='https://docs.microsoft.com/microsoft-365/security/defender-endpoint/attack-surface-reduction')], object_marking_refs=['marking-definition--fa42a846-8d90-4e51-bc29-71d5b4802168'], x_mitre_attack_spec_version='2.1.0', x_mitre_domains=['enterprise-attack'], x_mitre_modified_by_ref='identity--c78cb6e5-0c4b-4611-8297-d1b8b55e40b5', x_mitre_version='1.0'),\n",
       " Relationship(type='relationship', spec_version='2.1', id='relationship--1ddae833-8280-4afa-b2b0-e250e22104fe', created_by_ref='identity--c78cb6e5-0c4b-4611-8297-d1b8b55e40b5', created='2019-06-21T15:15:19.160Z', modified='2022-03-30T20:42:33.572Z', relationship_type='mitigates', description='Network intrusion detection and prevention systems that use network signatures to identify traffic for specific adversary malware or unusual data transfer over known protocols like FTP can be used to mitigate activity at the network level. Signatures are often for unique indicators within protocols and may be based on the specific obfuscation technique used by a particular adversary or tool, and will likely be different across various malware families and versions. Adversaries will likely change tool C2 signatures over time or construct protocols in such a way as to avoid detection by common defensive tools.(Citation: University of Birmingham C2)', source_ref='course-of-action--12241367-a8b7-49b4-b86e-2236901ba50c', target_ref='attack-pattern--e6919abc-99f9-4c6c-95a5-14761e7b2add', revoked=False, external_references=[ExternalReference(source_name='University of Birmingham C2', description='Gardiner, J.,  Cova, M., Nagaraja, S. (2014, February). Command & Control Understanding, Denying and Detecting. Retrieved April 20, 2016.', url='https://arxiv.org/ftp/arxiv/papers/1408/1408.1136.pdf')], object_marking_refs=['marking-definition--fa42a846-8d90-4e51-bc29-71d5b4802168'], x_mitre_attack_spec_version='2.1.0', x_mitre_domains=['enterprise-attack'], x_mitre_modified_by_ref='identity--c78cb6e5-0c4b-4611-8297-d1b8b55e40b5', x_mitre_version='1.0'),\n",
       " Relationship(type='relationship', spec_version='2.1', id='relationship--ab637576-5bf9-423f-b5e8-6d1ac26bbb5c', created_by_ref='identity--c78cb6e5-0c4b-4611-8297-d1b8b55e40b5', created='2017-05-31T21:33:27.028Z', modified='2022-05-24T14:00:00.188Z', relationship_type='mitigates', source_ref='course-of-action--cdecc44a-1dbf-4c1f-881c-f21e3f47272a', target_ref='attack-pattern--e6919abc-99f9-4c6c-95a5-14761e7b2add', revoked=False, object_marking_refs=['marking-definition--fa42a846-8d90-4e51-bc29-71d5b4802168'], x_mitre_attack_spec_version='2.1.0', x_mitre_domains=['enterprise-attack'], x_mitre_modified_by_ref='identity--c78cb6e5-0c4b-4611-8297-d1b8b55e40b5', x_mitre_version='1.0'),\n",
       " Relationship(type='relationship', spec_version='2.1', id='relationship--1d1525e6-74f2-447d-ba11-9e9c9c552403', created_by_ref='identity--c78cb6e5-0c4b-4611-8297-d1b8b55e40b5', created='2019-06-21T16:28:45.435Z', modified='2022-05-24T14:00:00.188Z', relationship_type='mitigates', description='Use user training as a way to bring awareness to common phishing and spearphishing techniques and how to raise suspicion for potentially malicious events.', source_ref='course-of-action--2a4f6c11-a4a7-4cb9-b0ef-6ae1bb3a718a', target_ref='attack-pattern--8c32eb4d-805f-4fc5-bf60-c4d476c131b5', revoked=False, object_marking_refs=['marking-definition--fa42a846-8d90-4e51-bc29-71d5b4802168'], x_mitre_attack_spec_version='2.1.0', x_mitre_domains=['enterprise-attack'], x_mitre_modified_by_ref='identity--c78cb6e5-0c4b-4611-8297-d1b8b55e40b5', x_mitre_version='1.0'),\n",
       " Relationship(type='relationship', spec_version='2.1', id='relationship--225ab1b4-f800-4a92-9949-a0f05fce6213', created_by_ref='identity--c78cb6e5-0c4b-4611-8297-d1b8b55e40b5', created='2019-06-21T16:28:45.465Z', modified='2022-05-24T14:00:00.188Z', relationship_type='mitigates', description='Application control may be able to prevent the running of executables masquerading as other files.', source_ref='course-of-action--47e0e9fe-96ce-4f65-8bb1-8be1feacb5db', target_ref='attack-pattern--8c32eb4d-805f-4fc5-bf60-c4d476c131b5', revoked=False, object_marking_refs=['marking-definition--fa42a846-8d90-4e51-bc29-71d5b4802168'], x_mitre_attack_spec_version='2.1.0', x_mitre_domains=['enterprise-attack'], x_mitre_modified_by_ref='identity--c78cb6e5-0c4b-4611-8297-d1b8b55e40b5', x_mitre_version='1.0'),\n",
       " Relationship(type='relationship', spec_version='2.1', id='relationship--29be2366-5ffb-4499-9984-525f76525326', created_by_ref='identity--c78cb6e5-0c4b-4611-8297-d1b8b55e40b5', created='2018-04-18T17:59:24.739Z', modified='2022-05-24T14:00:00.188Z', relationship_type='mitigates', source_ref='course-of-action--548bf7ad-e19c-4d74-84bf-84ac4e57f505', target_ref='attack-pattern--8c32eb4d-805f-4fc5-bf60-c4d476c131b5', revoked=False, object_marking_refs=['marking-definition--fa42a846-8d90-4e51-bc29-71d5b4802168'], x_mitre_attack_spec_version='2.1.0', x_mitre_domains=['enterprise-attack'], x_mitre_modified_by_ref='identity--c78cb6e5-0c4b-4611-8297-d1b8b55e40b5', x_mitre_version='1.0'),\n",
       " Relationship(type='relationship', spec_version='2.1', id='relationship--3551c43c-b1b9-432b-8c3a-cf0265ca74ff', created_by_ref='identity--c78cb6e5-0c4b-4611-8297-d1b8b55e40b5', created='2021-07-06T21:52:00.353Z', modified='2022-01-05T21:40:28.482Z', relationship_type='mitigates', description='On Windows 10, enable Attack Surface Reduction (ASR) rules to prevent executable files from running unless they meet a prevalence, age, or trusted list criteria and to prevent Office applications from creating potentially malicious executable content by blocking malicious code from being written to disk. Note: cloud-delivered protection must be enabled to use certain rules. (Citation: win10_asr)', source_ref='course-of-action--90f39ee1-d5a3-4aaa-9f28-3b42815b0d46', target_ref='attack-pattern--8c32eb4d-805f-4fc5-bf60-c4d476c131b5', revoked=False, external_references=[ExternalReference(source_name='win10_asr', description='Microsoft. (2021, July 2). Use attack surface reduction rules to prevent malware infection. Retrieved June 24, 2021.', url='https://docs.microsoft.com/microsoft-365/security/defender-endpoint/attack-surface-reduction')], object_marking_refs=['marking-definition--fa42a846-8d90-4e51-bc29-71d5b4802168'], x_mitre_attack_spec_version='2.1.0', x_mitre_domains=['enterprise-attack'], x_mitre_modified_by_ref='identity--c78cb6e5-0c4b-4611-8297-d1b8b55e40b5', x_mitre_version='1.0'),\n",
       " Relationship(type='relationship', spec_version='2.1', id='relationship--66551074-a1e3-439c-a996-c1f7ca8136e2', created_by_ref='identity--c78cb6e5-0c4b-4611-8297-d1b8b55e40b5', created='2019-06-21T16:28:45.461Z', modified='2022-05-24T14:00:00.188Z', relationship_type='mitigates', description='If a link is being visited by a user, block unknown or unused files in transit by default that should not be downloaded or by policy from suspicious sites as a best practice to prevent some vectors, such as .scr, .exe, .pif, .cpl, etc. Some download scanning devices can open and analyze compressed and encrypted formats, such as zip and rar that may be used to conceal malicious files.', source_ref='course-of-action--21da4fd4-27ad-4e9c-b93d-0b9b14d02c96', target_ref='attack-pattern--8c32eb4d-805f-4fc5-bf60-c4d476c131b5', revoked=False, object_marking_refs=['marking-definition--fa42a846-8d90-4e51-bc29-71d5b4802168'], x_mitre_attack_spec_version='2.1.0', x_mitre_domains=['enterprise-attack'], x_mitre_modified_by_ref='identity--c78cb6e5-0c4b-4611-8297-d1b8b55e40b5', x_mitre_version='1.0'),\n",
       " Relationship(type='relationship', spec_version='2.1', id='relationship--8e567361-e2de-4dc6-b953-ec82dc143f58', created_by_ref='identity--c78cb6e5-0c4b-4611-8297-d1b8b55e40b5', created='2019-06-21T16:28:45.467Z', modified='2022-05-24T14:00:00.188Z', relationship_type='mitigates', description='If a link is being visited by a user, network intrusion prevention systems and systems designed to scan and remove malicious downloads can be used to block activity.', source_ref='course-of-action--12241367-a8b7-49b4-b86e-2236901ba50c', target_ref='attack-pattern--8c32eb4d-805f-4fc5-bf60-c4d476c131b5', revoked=False, object_marking_refs=['marking-definition--fa42a846-8d90-4e51-bc29-71d5b4802168'], x_mitre_attack_spec_version='2.1.0', x_mitre_domains=['enterprise-attack'], x_mitre_modified_by_ref='identity--c78cb6e5-0c4b-4611-8297-d1b8b55e40b5', x_mitre_version='1.0'),\n",
       " Relationship(type='relationship', spec_version='2.1', id='relationship--cca451aa-d4ca-4697-ac64-745841fb8658', created_by_ref='identity--c78cb6e5-0c4b-4611-8297-d1b8b55e40b5', created='2021-07-20T02:09:39.922Z', modified='2022-10-18T21:26:50.600Z', relationship_type='mitigates', description='On Windows 10, enable Attack Surface Reduction (ASR) rules to prevent execution of potentially obfuscated payloads. (Citation: win10_asr)', source_ref='course-of-action--90f39ee1-d5a3-4aaa-9f28-3b42815b0d46', target_ref='attack-pattern--b3d682b6-98f2-4fb0-aa3b-b4df007ca70a', revoked=False, external_references=[ExternalReference(source_name='win10_asr', description='Microsoft. (2021, July 2). Use attack surface reduction rules to prevent malware infection. Retrieved June 24, 2021.', url='https://docs.microsoft.com/microsoft-365/security/defender-endpoint/attack-surface-reduction')], object_marking_refs=['marking-definition--fa42a846-8d90-4e51-bc29-71d5b4802168'], x_mitre_attack_spec_version='2.1.0', x_mitre_deprecated=False, x_mitre_domains=['enterprise-attack'], x_mitre_modified_by_ref='identity--c78cb6e5-0c4b-4611-8297-d1b8b55e40b5', x_mitre_version='1.0'),\n",
       " Relationship(type='relationship', spec_version='2.1', id='relationship--ffa8f46b-615f-4b95-8ed5-90f86eaedd20', created_by_ref='identity--c78cb6e5-0c4b-4611-8297-d1b8b55e40b5', created='2019-06-25T12:15:00.109Z', modified='2022-10-18T22:12:20.193Z', relationship_type='mitigates', description='Anti-virus can be used to automatically detect and quarantine suspicious files. Consider utilizing the Antimalware Scan Interface (AMSI) on Windows 10 to analyze commands after being processed/interpreted. (Citation: Microsoft AMSI June 2015)', source_ref='course-of-action--a6a47a06-08fc-4ec4-bdc3-20373375ebb9', target_ref='attack-pattern--b3d682b6-98f2-4fb0-aa3b-b4df007ca70a', revoked=False, external_references=[ExternalReference(source_name='Microsoft AMSI June 2015', description='Microsoft. (2015, June 9). Windows 10 to offer application developers new malware defenses. Retrieved February 12, 2018.', url='https://cloudblogs.microsoft.com/microsoftsecure/2015/06/09/windows-10-to-offer-application-developers-new-malware-defenses/?source=mmpc')], object_marking_refs=['marking-definition--fa42a846-8d90-4e51-bc29-71d5b4802168'], x_mitre_attack_spec_version='2.1.0', x_mitre_deprecated=False, x_mitre_domains=['enterprise-attack'], x_mitre_modified_by_ref='identity--c78cb6e5-0c4b-4611-8297-d1b8b55e40b5', x_mitre_version='1.0'),\n",
       " Relationship(type='relationship', spec_version='2.1', id='relationship--19f35c88-92c4-4e98-b024-be9f6731bdb5', created_by_ref='identity--c78cb6e5-0c4b-4611-8297-d1b8b55e40b5', created='2019-06-21T15:16:29.301Z', modified='2022-05-24T14:00:00.188Z', relationship_type='mitigates', description='Network intrusion detection and prevention systems that use network signatures to identify traffic for specific adversary malware can be used to mitigate activity at the network level.', source_ref='course-of-action--12241367-a8b7-49b4-b86e-2236901ba50c', target_ref='attack-pattern--355be19c-ffc9-46d5-8d50-d6a036c675b6', revoked=False, object_marking_refs=['marking-definition--fa42a846-8d90-4e51-bc29-71d5b4802168'], x_mitre_attack_spec_version='2.1.0', x_mitre_deprecated=False, x_mitre_domains=['enterprise-attack'], x_mitre_modified_by_ref='identity--c78cb6e5-0c4b-4611-8297-d1b8b55e40b5', x_mitre_version='1.0'),\n",
       " Relationship(type='relationship', spec_version='2.1', id='relationship--c28d6f10-431f-493c-8abd-918240c5c970', created_by_ref='identity--c78cb6e5-0c4b-4611-8297-d1b8b55e40b5', created='2017-05-31T21:33:27.026Z', modified='2022-05-24T14:00:00.188Z', relationship_type='mitigates', source_ref='course-of-action--c620e3a1-fff5-424f-abea-d2b0f3616f67', target_ref='attack-pattern--354a7f88-63fb-41b5-a801-ce3b377b36f1', revoked=False, object_marking_refs=['marking-definition--fa42a846-8d90-4e51-bc29-71d5b4802168'], x_mitre_attack_spec_version='2.1.0', x_mitre_domains=['enterprise-attack'], x_mitre_modified_by_ref='identity--c78cb6e5-0c4b-4611-8297-d1b8b55e40b5', x_mitre_version='1.0'),\n",
       " Relationship(type='relationship', spec_version='2.1', id='relationship--76588f90-79b8-4a61-ae07-3321393e5707', created_by_ref='identity--c78cb6e5-0c4b-4611-8297-d1b8b55e40b5', created='2020-03-02T18:49:28.111Z', modified='2022-04-25T14:00:00.188Z', relationship_type='mitigates', description='Network intrusion prevention systems and systems designed to scan and remove malicious email attachments or links can be used to block activity.', source_ref='course-of-action--12241367-a8b7-49b4-b86e-2236901ba50c', target_ref='attack-pattern--a62a8db3-f23a-4d8f-afd6-9dbc77e7813b', revoked=False, object_marking_refs=['marking-definition--fa42a846-8d90-4e51-bc29-71d5b4802168'], x_mitre_attack_spec_version='2.1.0', x_mitre_domains=['enterprise-attack'], x_mitre_modified_by_ref='identity--c78cb6e5-0c4b-4611-8297-d1b8b55e40b5', x_mitre_version='1.0'),\n",
       " Relationship(type='relationship', spec_version='2.1', id='relationship--7b090d29-d49d-4967-9843-90636bfb039f', created_by_ref='identity--c78cb6e5-0c4b-4611-8297-d1b8b55e40b5', created='2021-03-04T22:41:33.423Z', modified='2021-09-27T17:57:28.633Z', relationship_type='mitigates', description='Use anti-spoofing and email authentication mechanisms to filter messages based on validity checks of the sender domain (using SPF) and integrity of messages (using DKIM). Enabling these mechanisms within an organization (through policies such as DMARC) may enable recipients (intra-org and cross domain) to perform similar message filtering and validation.(Citation: Microsoft Anti Spoofing)(Citation: ACSC Email Spoofing)', source_ref='course-of-action--b5dbb4c5-b0b1-40b1-80b6-e9e84ab90067', target_ref='attack-pattern--a62a8db3-f23a-4d8f-afd6-9dbc77e7813b', revoked=False, external_references=[ExternalReference(source_name='Microsoft Anti Spoofing', description='Microsoft. (2020, October 13). Anti-spoofing protection in EOP. Retrieved October 19, 2020.', url='https://docs.microsoft.com/en-us/microsoft-365/security/office-365-security/anti-spoofing-protection?view=o365-worldwide'), ExternalReference(source_name='ACSC Email Spoofing', description='Australian Cyber Security Centre. (2012, December). Mitigating Spoofed Emails Using Sender Policy Framework. Retrieved October 19, 2020.', url='https://www.cyber.gov.au/sites/default/files/2019-03/spoof_email_sender_policy_framework.pdf')], object_marking_refs=['marking-definition--fa42a846-8d90-4e51-bc29-71d5b4802168'], x_mitre_attack_spec_version='2.1.0', x_mitre_domains=['enterprise-attack'], x_mitre_modified_by_ref='identity--c78cb6e5-0c4b-4611-8297-d1b8b55e40b5', x_mitre_version='1.0'),\n",
       " Relationship(type='relationship', spec_version='2.1', id='relationship--a205b0ce-df00-40ae-b626-7dc3e8146d45', created_by_ref='identity--c78cb6e5-0c4b-4611-8297-d1b8b55e40b5', created='2020-03-02T18:49:28.119Z', modified='2022-04-25T14:00:00.188Z', relationship_type='mitigates', description='Determine if certain websites or attachment types (ex: .scr, .exe, .pif, .cpl, etc.) that can be used for phishing are necessary for business operations and consider blocking access if activity cannot be monitored well or if it poses a significant risk.', source_ref='course-of-action--21da4fd4-27ad-4e9c-b93d-0b9b14d02c96', target_ref='attack-pattern--a62a8db3-f23a-4d8f-afd6-9dbc77e7813b', revoked=False, object_marking_refs=['marking-definition--fa42a846-8d90-4e51-bc29-71d5b4802168'], x_mitre_attack_spec_version='2.1.0', x_mitre_domains=['enterprise-attack'], x_mitre_modified_by_ref='identity--c78cb6e5-0c4b-4611-8297-d1b8b55e40b5', x_mitre_version='1.0'),\n",
       " Relationship(type='relationship', spec_version='2.1', id='relationship--ed821f5e-9527-4fbb-ae76-37a79592dfb6', created_by_ref='identity--c78cb6e5-0c4b-4611-8297-d1b8b55e40b5', created='2020-03-02T18:49:28.109Z', modified='2022-04-25T14:00:00.188Z', relationship_type='mitigates', description='Anti-virus can automatically quarantine suspicious files.', source_ref='course-of-action--a6a47a06-08fc-4ec4-bdc3-20373375ebb9', target_ref='attack-pattern--a62a8db3-f23a-4d8f-afd6-9dbc77e7813b', revoked=False, object_marking_refs=['marking-definition--fa42a846-8d90-4e51-bc29-71d5b4802168'], x_mitre_attack_spec_version='2.1.0', x_mitre_domains=['enterprise-attack'], x_mitre_modified_by_ref='identity--c78cb6e5-0c4b-4611-8297-d1b8b55e40b5', x_mitre_version='1.0'),\n",
       " Relationship(type='relationship', spec_version='2.1', id='relationship--ee935350-f68f-4bd7-bfca-878ae48a2b97', created_by_ref='identity--c78cb6e5-0c4b-4611-8297-d1b8b55e40b5', created='2020-03-02T18:49:28.130Z', modified='2022-04-25T14:00:00.188Z', relationship_type='mitigates', description='Users can be trained to identify social engineering techniques and phishing emails.', source_ref='course-of-action--2a4f6c11-a4a7-4cb9-b0ef-6ae1bb3a718a', target_ref='attack-pattern--a62a8db3-f23a-4d8f-afd6-9dbc77e7813b', revoked=False, object_marking_refs=['marking-definition--fa42a846-8d90-4e51-bc29-71d5b4802168'], x_mitre_attack_spec_version='2.1.0', x_mitre_domains=['enterprise-attack'], x_mitre_modified_by_ref='identity--c78cb6e5-0c4b-4611-8297-d1b8b55e40b5', x_mitre_version='1.0'),\n",
       " Relationship(type='relationship', spec_version='2.1', id='relationship--8104dfee-8883-4f7c-8f7d-84c9b409efc3', created_by_ref='identity--c78cb6e5-0c4b-4611-8297-d1b8b55e40b5', created='2017-12-14T16:46:06.044Z', modified='2022-04-25T14:00:00.188Z', relationship_type='mitigates', source_ref='course-of-action--d01f473f-3cdc-4867-9e55-1de9cf1986f0', target_ref='attack-pattern--3ccef7ae-cb5e-48f6-8302-897105fbf55c', revoked=False, object_marking_refs=['marking-definition--fa42a846-8d90-4e51-bc29-71d5b4802168'], x_mitre_attack_spec_version='2.1.0', x_mitre_domains=['enterprise-attack'], x_mitre_modified_by_ref='identity--c78cb6e5-0c4b-4611-8297-d1b8b55e40b5', x_mitre_version='1.0'),\n",
       " Relationship(type='relationship', spec_version='2.1', id='relationship--03f30a17-095b-4656-a7db-87d98628dfd8', created_by_ref='identity--c78cb6e5-0c4b-4611-8297-d1b8b55e40b5', created='2017-05-31T21:33:27.023Z', modified='2022-04-25T14:00:00.188Z', relationship_type='mitigates', source_ref='course-of-action--f6469191-1814-4dbe-a081-2a6daf83a10b', target_ref='attack-pattern--8f4a33ec-8b1f-4b80-a2f6-642b2e479580', revoked=False, object_marking_refs=['marking-definition--fa42a846-8d90-4e51-bc29-71d5b4802168'], x_mitre_attack_spec_version='2.1.0', x_mitre_domains=['enterprise-attack'], x_mitre_modified_by_ref='identity--c78cb6e5-0c4b-4611-8297-d1b8b55e40b5', x_mitre_version='1.0'),\n",
       " Relationship(type='relationship', spec_version='2.1', id='relationship--e432b3bc-5539-40e5-bce2-3ba6f463b571', created_by_ref='identity--c78cb6e5-0c4b-4611-8297-d1b8b55e40b5', created='2017-05-31T21:33:27.026Z', modified='2022-05-24T14:00:00.188Z', relationship_type='mitigates', source_ref='course-of-action--2ace01f8-67c8-43eb-b7b1-a7b9f1fe67e1', target_ref='attack-pattern--7bc57495-ea59-4380-be31-a64af124ef18', revoked=False, object_marking_refs=['marking-definition--fa42a846-8d90-4e51-bc29-71d5b4802168'], x_mitre_attack_spec_version='2.1.0', x_mitre_domains=['enterprise-attack'], x_mitre_modified_by_ref='identity--c78cb6e5-0c4b-4611-8297-d1b8b55e40b5', x_mitre_version='1.0'),\n",
       " Relationship(type='relationship', spec_version='2.1', id='relationship--185c194a-5823-46e4-9719-9de48c3c1734', created_by_ref='identity--c78cb6e5-0c4b-4611-8297-d1b8b55e40b5', created='2019-06-25T14:09:38.745Z', modified='2022-05-24T14:00:00.188Z', relationship_type='mitigates', description='Obfuscate/encrypt event files locally and in transit to avoid giving feedback to an adversary.', source_ref='course-of-action--feff9142-e8c2-46f4-842b-bd6fb3d41157', target_ref='attack-pattern--799ace7f-e227-4411-baa0-8868704f2a69', revoked=False, object_marking_refs=['marking-definition--fa42a846-8d90-4e51-bc29-71d5b4802168'], x_mitre_attack_spec_version='2.1.0', x_mitre_domains=['enterprise-attack'], x_mitre_modified_by_ref='identity--c78cb6e5-0c4b-4611-8297-d1b8b55e40b5', x_mitre_version='1.0'),\n",
       " Relationship(type='relationship', spec_version='2.1', id='relationship--60151204-5c0c-4d18-8582-4d0fad22ed08', created_by_ref='identity--c78cb6e5-0c4b-4611-8297-d1b8b55e40b5', created='2019-06-25T14:09:38.730Z', modified='2022-05-24T14:00:00.188Z', relationship_type='mitigates', description='Automatically forward events to a log server or data repository to prevent conditions in which the adversary can locate and manipulate data on the local system. When possible, minimize time delay on event reporting to avoid prolonged storage on the local system. ', source_ref='course-of-action--20a2baeb-98c2-4901-bad7-dc62d0a03dea', target_ref='attack-pattern--799ace7f-e227-4411-baa0-8868704f2a69', revoked=False, object_marking_refs=['marking-definition--fa42a846-8d90-4e51-bc29-71d5b4802168'], x_mitre_attack_spec_version='2.1.0', x_mitre_domains=['enterprise-attack'], x_mitre_modified_by_ref='identity--c78cb6e5-0c4b-4611-8297-d1b8b55e40b5', x_mitre_version='1.0'),\n",
       " Relationship(type='relationship', spec_version='2.1', id='relationship--6db4729b-596c-43c1-81f4-d374a2f2e06b', created_by_ref='identity--c78cb6e5-0c4b-4611-8297-d1b8b55e40b5', created='2019-06-25T14:09:38.748Z', modified='2022-05-24T14:00:00.188Z', relationship_type='mitigates', description='Protect generated event files that are stored locally with proper permissions and authentication and limit opportunities for adversaries to increase privileges by preventing Privilege Escalation opportunities.', source_ref='course-of-action--987988f0-cf86-4680-a875-2f6456ab2448', target_ref='attack-pattern--799ace7f-e227-4411-baa0-8868704f2a69', revoked=False, object_marking_refs=['marking-definition--fa42a846-8d90-4e51-bc29-71d5b4802168'], x_mitre_attack_spec_version='2.1.0', x_mitre_domains=['enterprise-attack'], x_mitre_modified_by_ref='identity--c78cb6e5-0c4b-4611-8297-d1b8b55e40b5', x_mitre_version='1.0'),\n",
       " Relationship(type='relationship', spec_version='2.1', id='relationship--dd21c8fe-caf8-40df-b049-787ba465eef7', created_by_ref='identity--c78cb6e5-0c4b-4611-8297-d1b8b55e40b5', created='2017-05-31T21:33:27.024Z', modified='2022-05-24T14:00:00.188Z', relationship_type='mitigates', source_ref='course-of-action--6cac62ce-550b-4793-8ee6-6a1b8836edb0', target_ref='attack-pattern--799ace7f-e227-4411-baa0-8868704f2a69', revoked=False, object_marking_refs=['marking-definition--fa42a846-8d90-4e51-bc29-71d5b4802168'], x_mitre_attack_spec_version='2.1.0', x_mitre_domains=['enterprise-attack'], x_mitre_modified_by_ref='identity--c78cb6e5-0c4b-4611-8297-d1b8b55e40b5', x_mitre_version='1.0')]"
      ]
     },
     "execution_count": 124,
     "metadata": {},
     "output_type": "execute_result"
    }
   ],
   "source": [
    "list(mitigationRelationships.values())\n"
   ]
  },
  {
   "cell_type": "code",
   "execution_count": null,
   "metadata": {},
   "outputs": [],
   "source": []
  },
  {
   "cell_type": "code",
   "execution_count": null,
   "metadata": {},
   "outputs": [],
   "source": []
  },
  {
   "cell_type": "code",
   "execution_count": null,
   "metadata": {},
   "outputs": [],
   "source": []
  }
 ],
 "metadata": {
  "kernelspec": {
   "display_name": "Python 3",
   "language": "python",
   "name": "python3"
  },
  "language_info": {
   "codemirror_mode": {
    "name": "ipython",
    "version": 3
   },
   "file_extension": ".py",
   "mimetype": "text/x-python",
   "name": "python",
   "nbconvert_exporter": "python",
   "pygments_lexer": "ipython3",
   "version": "3.8.5"
  },
  "vscode": {
   "interpreter": {
    "hash": "1000945fcd85222069980358e2e94812269a36e87e3fa0a7803c7ca1da09a9a5"
   }
  }
 },
 "nbformat": 4,
 "nbformat_minor": 4
}
